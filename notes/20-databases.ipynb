{
 "cells": [
  {
   "cell_type": "code",
   "execution_count": 1,
   "metadata": {
    "colab": {
     "base_uri": "https://localhost:8080/"
    },
    "executionInfo": {
     "elapsed": 3605,
     "status": "ok",
     "timestamp": 1711625399093,
     "user": {
      "displayName": "Lutz Hamel",
      "userId": "10287662568849688016"
     },
     "user_tz": 240
    },
    "id": "PR9RuM4Jff5J",
    "outputId": "c262bff8-f155-4236-fd21-27b52346a8c0"
   },
   "outputs": [
    {
     "name": "stdout",
     "output_type": "stream",
     "text": [
      "Already up to date.\n"
     ]
    }
   ],
   "source": [
    "###### Config #####\n",
    "import sys, os, platform\n",
    "if os.path.isdir(\"ds-assets\"):\n",
    "  !cd ds-assets && git pull\n",
    "else:\n",
    "  !git clone https://github.com/lutzhamel/ds-assets.git\n",
    "colab = True if 'google.colab' in os.sys.modules else False\n",
    "system = platform.system() # \"Windows\", \"Linux\", \"Darwin\"\n",
    "home = \"ds-assets/assets/\"\n",
    "sys.path.append(home)  "
   ]
  },
  {
   "cell_type": "code",
   "execution_count": 2,
   "metadata": {},
   "outputs": [],
   "source": [
    "# notebook level imports\n",
    "import dsutils  # DBCredentials, execute_query"
   ]
  },
  {
   "cell_type": "markdown",
   "metadata": {},
   "source": [
    "![](https://www.quest.com/images/og/OGImage-RelationalDatabase_166844.png)"
   ]
  },
  {
   "cell_type": "markdown",
   "metadata": {
    "id": "cALckSvTff5L"
   },
   "source": [
    "# Relational Databases\n",
    "\n",
    "* The data you need will often live in **databases**, systems designed for efficiently storing and querying data.\n",
    "\n",
    "* The bulk of these are relational databases, such as Oracle, MySQL, and SQL Server.  These are also called **Relational Database Management Systems** ([RDBMS](https://en.wikipedia.org/wiki/Relational_database_management_system)).\n",
    "\n",
    "* These systems store data in tables and are typically queried using the **Structured Query Language** ([SQL](https://en.wikipedia.org/wiki/SQL)), a declarative language for manipulating data.\n",
    "\n"
   ]
  },
  {
   "cell_type": "markdown",
   "metadata": {
    "id": "rY7wfJVVff5M"
   },
   "source": [
    "## What is a Relational Database?\n",
    "\n",
    "* A relational database is a **collection of tables**.\n",
    "   * A **table** is simply a collection of rows and columns, very **similar to Pandas DataFrames**.\n",
    "   * A database typically contains **multiple tables**.\n",
    "* Each table typically has columns called the **primary and/or foreign keys**.\n",
    "   * These special columns allow the user to pose queries across multiple different tables at the same time - to perform **joins across tables**.\n",
    "   * A **primary key** is a column that holds a **unique value for each row** in the table.  This is used by the db engine to optimize queries against the table.\n",
    "   * A **foreign key** is a column where each value **points to the primary key of another tabl**e.  So you can think of a foreign key as pointer from one table to another.\n",
    "* Tables together with primary/foreign key relationships are called the **schema of a database**.\n",
    "* SQL is used to query the data in a relational database.  \n",
    "* Data returned from an SQL query is returned as a table -- the **result table**\n",
    "\n",
    "These databases are called relational because each table defines a [mathematical relation](https://www.vertabelo.com/blog/why-are-relational-databases-relational/)!\n",
    "\n"
   ]
  },
  {
   "cell_type": "markdown",
   "metadata": {
    "id": "vUoRrZNxff5N"
   },
   "source": [
    "## SQL Queries and Result Tables\n",
    "\n",
    "![alt](https://www.w3resource.com/w3r_images/sql-works-with-rdbms.gif)"
   ]
  },
  {
   "cell_type": "markdown",
   "metadata": {
    "id": "m2uZAD4vff5N"
   },
   "source": [
    "# SQL\n",
    "\n",
    "SQL (Structured Query Language) is a domain-specific language used for programming and managing data held in a relational database management system.\n",
    "\n",
    "SQL was one of the first languages for Edgar F. Codd's relational model, as described in his influential 1970 paper, \"[A Relational Model of Data for Large Shared Data Banks](https://sfu-db.github.io/dbsystems/Papers/p377-codd.pdf).\"\n",
    "\n",
    "Here is a nice [SQL tutorial](https://www.w3schools.com/sql).\n"
   ]
  },
  {
   "cell_type": "markdown",
   "metadata": {
    "id": "W9NXcrLRff5N"
   },
   "source": [
    "## What Can SQL do?\n",
    "* SQL can execute queries against a database\n",
    "* SQL can retrieve data from a database\n",
    "* SQL can insert records in a database\n",
    "* SQL can update records in a database\n",
    "* SQL can delete records from a database\n",
    "* SQL can create new databases\n",
    "* SQL can create new tables in a database\n",
    "* SQL can create stored procedures in a database\n",
    "* SQL can create views in a database\n",
    "* SQL can set permissions on tables, procedures, and views\n",
    "\n",
    "\n"
   ]
  },
  {
   "cell_type": "markdown",
   "metadata": {
    "id": "VWUyDBfXff5O"
   },
   "source": [
    "## SQL is actually made up of a couple of sub-languages:\n",
    "\n",
    "* DDL: Data Definition Language, e.g. ‘create’ a table or database\n",
    "* DML: Data Manipulation Language, e.g. insert or delete a row in a table\n",
    "* TCL: Transaction Control Language, e.g. commit or rollback database changes\n",
    "* DCL: Data Control Language, e.g. grant access permissions\n",
    "* **DQL: Data Query Language**, e.g. retrieve records from one or more table\n",
    "\n",
    "**Note:** Only a small part of SQL actually has to do with information retrieval/querying"
   ]
  },
  {
   "cell_type": "markdown",
   "metadata": {
    "id": "XCdtXzCsff5O"
   },
   "source": [
    "## Data Retrieval with `SELECT`\n",
    "\n",
    "From our perspective, the most important feature in SQL is the **SELECT** statement that allows us to extract data from the DB tables:\n",
    "```\n",
    "SELECT * FROM Customers;               -- get entire contents of table Customers\n",
    "SELECT * FROM Customers LIMIT 2;       -- get the first two rows\n",
    "SELECT CustomerID,CustomerName FROM Customers;    \n",
    "                                       -- get columns CustomerID, CustomerName of table Customers\n",
    "SELECT CustomerName,City FROM Customers WHERE CustomerID = 3;  \n",
    "                                       -- get data subject to some conditions\n",
    "```"
   ]
  },
  {
   "cell_type": "markdown",
   "metadata": {
    "id": "kbG_aYtzff5P"
   },
   "source": [
    "Take a peek at the W3Schools [reference manual for SQL](https://www.w3schools.com/sql/)."
   ]
  },
  {
   "cell_type": "markdown",
   "metadata": {
    "id": "oro8jjl3ff5P"
   },
   "source": [
    "# SQL and Python\n",
    "\n",
    "We will use the [PyMySQL](https://pymysql.readthedocs.io/en/latest/) package together with  [Pandas DataFrames' ability to query databases using SQL](https://pandas.pydata.org/pandas-docs/stable/reference/api/pandas.read_sql.html) to connect to a [MySQL server](https://www.mysql.com) and issue SQL commands.\n",
    "\n",
    "We will use the 'world' database from the [MySQL website](https://dev.mysql.com/doc/world-setup/en)."
   ]
  },
  {
   "cell_type": "code",
   "execution_count": 3,
   "metadata": {
    "executionInfo": {
     "elapsed": 152,
     "status": "ok",
     "timestamp": 1711625428744,
     "user": {
      "displayName": "Lutz Hamel",
      "userId": "10287662568849688016"
     },
     "user_tz": 240
    },
    "id": "MZjRUvXjff5P"
   },
   "outputs": [],
   "source": [
    "# our database credentials\n",
    "credentials = dsutils.DBCredentials(\n",
    "   host = 'testdb.cwy05wfzuxbv.us-east-1.rds.amazonaws.com',\n",
    "   userdb = 'world',\n",
    "   user = 'csc310',\n",
    "   password = 'csc310$is$fun')"
   ]
  },
  {
   "cell_type": "markdown",
   "metadata": {
    "id": "dQ65M78lff5P"
   },
   "source": [
    "The **schema** of the world database looks as follows:\n",
    "\n",
    "<img src=\"https://static.packt-cdn.com/products/9781788390415/graphics/cac1f609-1c45-46d7-b066-d9481ceddf18.png\">\n",
    "\n",
    "The database consists of three tables with the central table being the 'country' table.  The other two tables are related to the 'country' table via the 'CountryCode' columns that are set up as **foreign keys**."
   ]
  },
  {
   "cell_type": "markdown",
   "metadata": {
    "id": "vBLfnEsyff5Q"
   },
   "source": [
    "## Basic Queries\n",
    "\n",
    "### Mimicking the Pandas 'head' Function\n",
    "\n",
    "Here is a program that queries 10 rows from the table 'city'.  Notice, that the results are returned as a Pandas dataframe and therefore, once we have the results, we can apply standard Pandas things to the results if we so chose (which will do later on)."
   ]
  },
  {
   "cell_type": "code",
   "execution_count": 4,
   "metadata": {},
   "outputs": [],
   "source": [
    "\n",
    "# return the first 10 rows from the city table\n",
    "# using a SQL query string\n",
    "sql_string = \\\n",
    "'''\n",
    "SELECT \n",
    "   *        -- everything\n",
    "FROM \n",
    "   city     -- table city\n",
    "LIMIT \n",
    "   10       -- limit to first 10 rows\n",
    "'''"
   ]
  },
  {
   "cell_type": "code",
   "execution_count": 5,
   "metadata": {},
   "outputs": [
    {
     "data": {
      "text/html": [
       "<div>\n",
       "<style scoped>\n",
       "    .dataframe tbody tr th:only-of-type {\n",
       "        vertical-align: middle;\n",
       "    }\n",
       "\n",
       "    .dataframe tbody tr th {\n",
       "        vertical-align: top;\n",
       "    }\n",
       "\n",
       "    .dataframe thead th {\n",
       "        text-align: right;\n",
       "    }\n",
       "</style>\n",
       "<table border=\"1\" class=\"dataframe\">\n",
       "  <thead>\n",
       "    <tr style=\"text-align: right;\">\n",
       "      <th></th>\n",
       "      <th>ID</th>\n",
       "      <th>Name</th>\n",
       "      <th>CountryCode</th>\n",
       "      <th>District</th>\n",
       "      <th>Population</th>\n",
       "    </tr>\n",
       "  </thead>\n",
       "  <tbody>\n",
       "    <tr>\n",
       "      <th>0</th>\n",
       "      <td>1</td>\n",
       "      <td>Kabul</td>\n",
       "      <td>AFG</td>\n",
       "      <td>Kabol</td>\n",
       "      <td>1780000</td>\n",
       "    </tr>\n",
       "    <tr>\n",
       "      <th>1</th>\n",
       "      <td>2</td>\n",
       "      <td>Qandahar</td>\n",
       "      <td>AFG</td>\n",
       "      <td>Qandahar</td>\n",
       "      <td>237500</td>\n",
       "    </tr>\n",
       "    <tr>\n",
       "      <th>2</th>\n",
       "      <td>3</td>\n",
       "      <td>Herat</td>\n",
       "      <td>AFG</td>\n",
       "      <td>Herat</td>\n",
       "      <td>186800</td>\n",
       "    </tr>\n",
       "    <tr>\n",
       "      <th>3</th>\n",
       "      <td>4</td>\n",
       "      <td>Mazar-e-Sharif</td>\n",
       "      <td>AFG</td>\n",
       "      <td>Balkh</td>\n",
       "      <td>127800</td>\n",
       "    </tr>\n",
       "    <tr>\n",
       "      <th>4</th>\n",
       "      <td>5</td>\n",
       "      <td>Amsterdam</td>\n",
       "      <td>NLD</td>\n",
       "      <td>Noord-Holland</td>\n",
       "      <td>731200</td>\n",
       "    </tr>\n",
       "    <tr>\n",
       "      <th>5</th>\n",
       "      <td>6</td>\n",
       "      <td>Rotterdam</td>\n",
       "      <td>NLD</td>\n",
       "      <td>Zuid-Holland</td>\n",
       "      <td>593321</td>\n",
       "    </tr>\n",
       "    <tr>\n",
       "      <th>6</th>\n",
       "      <td>7</td>\n",
       "      <td>Haag</td>\n",
       "      <td>NLD</td>\n",
       "      <td>Zuid-Holland</td>\n",
       "      <td>440900</td>\n",
       "    </tr>\n",
       "    <tr>\n",
       "      <th>7</th>\n",
       "      <td>8</td>\n",
       "      <td>Utrecht</td>\n",
       "      <td>NLD</td>\n",
       "      <td>Utrecht</td>\n",
       "      <td>234323</td>\n",
       "    </tr>\n",
       "    <tr>\n",
       "      <th>8</th>\n",
       "      <td>9</td>\n",
       "      <td>Eindhoven</td>\n",
       "      <td>NLD</td>\n",
       "      <td>Noord-Brabant</td>\n",
       "      <td>201843</td>\n",
       "    </tr>\n",
       "    <tr>\n",
       "      <th>9</th>\n",
       "      <td>10</td>\n",
       "      <td>Tilburg</td>\n",
       "      <td>NLD</td>\n",
       "      <td>Noord-Brabant</td>\n",
       "      <td>193238</td>\n",
       "    </tr>\n",
       "  </tbody>\n",
       "</table>\n",
       "</div>"
      ],
      "text/plain": [
       "   ID            Name CountryCode       District  Population\n",
       "0   1           Kabul         AFG          Kabol     1780000\n",
       "1   2        Qandahar         AFG       Qandahar      237500\n",
       "2   3           Herat         AFG          Herat      186800\n",
       "3   4  Mazar-e-Sharif         AFG          Balkh      127800\n",
       "4   5       Amsterdam         NLD  Noord-Holland      731200\n",
       "5   6       Rotterdam         NLD   Zuid-Holland      593321\n",
       "6   7            Haag         NLD   Zuid-Holland      440900\n",
       "7   8         Utrecht         NLD        Utrecht      234323\n",
       "8   9       Eindhoven         NLD  Noord-Brabant      201843\n",
       "9  10         Tilburg         NLD  Noord-Brabant      193238"
      ]
     },
     "execution_count": 5,
     "metadata": {},
     "output_type": "execute_result"
    }
   ],
   "source": [
    "dsutils.execute_query(credentials, sql_string)"
   ]
  },
  {
   "cell_type": "markdown",
   "metadata": {
    "id": "5NUUeKAnff5R"
   },
   "source": [
    "### Being more specific in what we are asking for!\n",
    "Here is another program that queries the 'city' table for cities where the population is greater than 5,000,000\n",
    "and displays the columns 'name', 'countrycode', and 'population'. It displays the results in descending order."
   ]
  },
  {
   "cell_type": "code",
   "execution_count": 6,
   "metadata": {},
   "outputs": [],
   "source": [
    "\n",
    "# show the name, countrycode, and population of cities \n",
    "# where the population is greater than 5,000,000,\n",
    "# ordered by population in descending order\n",
    "sql_string = \\\n",
    "'''\n",
    "SELECT\n",
    "    -- limit the columns to show\n",
    "    name,\n",
    "    countrycode,\n",
    "    population\n",
    "FROM\n",
    "    city\n",
    "WHERE\n",
    "    population > 5000000 -- only cities with population > 5 million\n",
    "ORDER\n",
    "    BY population DESC  -- sort by population in descending order\n",
    "'''"
   ]
  },
  {
   "cell_type": "code",
   "execution_count": 7,
   "metadata": {},
   "outputs": [
    {
     "data": {
      "text/html": [
       "<div>\n",
       "<style scoped>\n",
       "    .dataframe tbody tr th:only-of-type {\n",
       "        vertical-align: middle;\n",
       "    }\n",
       "\n",
       "    .dataframe tbody tr th {\n",
       "        vertical-align: top;\n",
       "    }\n",
       "\n",
       "    .dataframe thead th {\n",
       "        text-align: right;\n",
       "    }\n",
       "</style>\n",
       "<table border=\"1\" class=\"dataframe\">\n",
       "  <thead>\n",
       "    <tr style=\"text-align: right;\">\n",
       "      <th></th>\n",
       "      <th>name</th>\n",
       "      <th>countrycode</th>\n",
       "      <th>population</th>\n",
       "    </tr>\n",
       "  </thead>\n",
       "  <tbody>\n",
       "    <tr>\n",
       "      <th>0</th>\n",
       "      <td>Mumbai (Bombay)</td>\n",
       "      <td>IND</td>\n",
       "      <td>10500000</td>\n",
       "    </tr>\n",
       "    <tr>\n",
       "      <th>1</th>\n",
       "      <td>Seoul</td>\n",
       "      <td>KOR</td>\n",
       "      <td>9981619</td>\n",
       "    </tr>\n",
       "    <tr>\n",
       "      <th>2</th>\n",
       "      <td>São Paulo</td>\n",
       "      <td>BRA</td>\n",
       "      <td>9968485</td>\n",
       "    </tr>\n",
       "    <tr>\n",
       "      <th>3</th>\n",
       "      <td>Shanghai</td>\n",
       "      <td>CHN</td>\n",
       "      <td>9696300</td>\n",
       "    </tr>\n",
       "    <tr>\n",
       "      <th>4</th>\n",
       "      <td>Jakarta</td>\n",
       "      <td>IDN</td>\n",
       "      <td>9604900</td>\n",
       "    </tr>\n",
       "    <tr>\n",
       "      <th>5</th>\n",
       "      <td>Karachi</td>\n",
       "      <td>PAK</td>\n",
       "      <td>9269265</td>\n",
       "    </tr>\n",
       "    <tr>\n",
       "      <th>6</th>\n",
       "      <td>Istanbul</td>\n",
       "      <td>TUR</td>\n",
       "      <td>8787958</td>\n",
       "    </tr>\n",
       "    <tr>\n",
       "      <th>7</th>\n",
       "      <td>Ciudad de México</td>\n",
       "      <td>MEX</td>\n",
       "      <td>8591309</td>\n",
       "    </tr>\n",
       "    <tr>\n",
       "      <th>8</th>\n",
       "      <td>Moscow</td>\n",
       "      <td>RUS</td>\n",
       "      <td>8389200</td>\n",
       "    </tr>\n",
       "    <tr>\n",
       "      <th>9</th>\n",
       "      <td>New York</td>\n",
       "      <td>USA</td>\n",
       "      <td>8008278</td>\n",
       "    </tr>\n",
       "    <tr>\n",
       "      <th>10</th>\n",
       "      <td>Tokyo</td>\n",
       "      <td>JPN</td>\n",
       "      <td>7980230</td>\n",
       "    </tr>\n",
       "    <tr>\n",
       "      <th>11</th>\n",
       "      <td>Peking</td>\n",
       "      <td>CHN</td>\n",
       "      <td>7472000</td>\n",
       "    </tr>\n",
       "    <tr>\n",
       "      <th>12</th>\n",
       "      <td>London</td>\n",
       "      <td>GBR</td>\n",
       "      <td>7285000</td>\n",
       "    </tr>\n",
       "    <tr>\n",
       "      <th>13</th>\n",
       "      <td>Delhi</td>\n",
       "      <td>IND</td>\n",
       "      <td>7206704</td>\n",
       "    </tr>\n",
       "    <tr>\n",
       "      <th>14</th>\n",
       "      <td>Cairo</td>\n",
       "      <td>EGY</td>\n",
       "      <td>6789479</td>\n",
       "    </tr>\n",
       "    <tr>\n",
       "      <th>15</th>\n",
       "      <td>Teheran</td>\n",
       "      <td>IRN</td>\n",
       "      <td>6758845</td>\n",
       "    </tr>\n",
       "    <tr>\n",
       "      <th>16</th>\n",
       "      <td>Lima</td>\n",
       "      <td>PER</td>\n",
       "      <td>6464693</td>\n",
       "    </tr>\n",
       "    <tr>\n",
       "      <th>17</th>\n",
       "      <td>Chongqing</td>\n",
       "      <td>CHN</td>\n",
       "      <td>6351600</td>\n",
       "    </tr>\n",
       "    <tr>\n",
       "      <th>18</th>\n",
       "      <td>Bangkok</td>\n",
       "      <td>THA</td>\n",
       "      <td>6320174</td>\n",
       "    </tr>\n",
       "    <tr>\n",
       "      <th>19</th>\n",
       "      <td>Santafé de Bogotá</td>\n",
       "      <td>COL</td>\n",
       "      <td>6260862</td>\n",
       "    </tr>\n",
       "    <tr>\n",
       "      <th>20</th>\n",
       "      <td>Rio de Janeiro</td>\n",
       "      <td>BRA</td>\n",
       "      <td>5598953</td>\n",
       "    </tr>\n",
       "    <tr>\n",
       "      <th>21</th>\n",
       "      <td>Tianjin</td>\n",
       "      <td>CHN</td>\n",
       "      <td>5286800</td>\n",
       "    </tr>\n",
       "    <tr>\n",
       "      <th>22</th>\n",
       "      <td>Kinshasa</td>\n",
       "      <td>COD</td>\n",
       "      <td>5064000</td>\n",
       "    </tr>\n",
       "    <tr>\n",
       "      <th>23</th>\n",
       "      <td>Lahore</td>\n",
       "      <td>PAK</td>\n",
       "      <td>5063499</td>\n",
       "    </tr>\n",
       "  </tbody>\n",
       "</table>\n",
       "</div>"
      ],
      "text/plain": [
       "                 name countrycode  population\n",
       "0     Mumbai (Bombay)         IND    10500000\n",
       "1               Seoul         KOR     9981619\n",
       "2           São Paulo         BRA     9968485\n",
       "3            Shanghai         CHN     9696300\n",
       "4             Jakarta         IDN     9604900\n",
       "5             Karachi         PAK     9269265\n",
       "6            Istanbul         TUR     8787958\n",
       "7    Ciudad de México         MEX     8591309\n",
       "8              Moscow         RUS     8389200\n",
       "9            New York         USA     8008278\n",
       "10              Tokyo         JPN     7980230\n",
       "11             Peking         CHN     7472000\n",
       "12             London         GBR     7285000\n",
       "13              Delhi         IND     7206704\n",
       "14              Cairo         EGY     6789479\n",
       "15            Teheran         IRN     6758845\n",
       "16               Lima         PER     6464693\n",
       "17          Chongqing         CHN     6351600\n",
       "18            Bangkok         THA     6320174\n",
       "19  Santafé de Bogotá         COL     6260862\n",
       "20     Rio de Janeiro         BRA     5598953\n",
       "21            Tianjin         CHN     5286800\n",
       "22           Kinshasa         COD     5064000\n",
       "23             Lahore         PAK     5063499"
      ]
     },
     "execution_count": 7,
     "metadata": {},
     "output_type": "execute_result"
    }
   ],
   "source": [
    "dsutils.execute_query(credentials, sql_string)\n"
   ]
  },
  {
   "cell_type": "markdown",
   "metadata": {},
   "source": [
    "### Query on how many distinct languages there are in the DB\n"
   ]
  },
  {
   "cell_type": "code",
   "execution_count": 8,
   "metadata": {},
   "outputs": [],
   "source": [
    "# count how many distinct, official languages are in the DB\n",
    "sql_string = \\\n",
    "'''\n",
    "SELECT\n",
    "   COUNT(DISTINCT language)  -- count distinct languages\n",
    "FROM\n",
    "   countrylanguage\n",
    "WHERE\n",
    "  isofficial = 'T'; -- only count official languages\n",
    "'''"
   ]
  },
  {
   "cell_type": "markdown",
   "metadata": {
    "id": "aLaMLFB5ff5S"
   },
   "source": [
    "* Here we query all the languages that are considered official languages. \n",
    "* The 'distinct' keyword prevents\n",
    "   a language to appear multiple times in the result table\n",
    "* The 'count' function counts the number of distinct languages returned.\n",
    "\n",
    "Noteworthy here is the fact that we can **execute functions like the 'count' function right on the DB server** without having to first export the data to our local machine!"
   ]
  },
  {
   "cell_type": "code",
   "execution_count": 9,
   "metadata": {},
   "outputs": [
    {
     "data": {
      "text/html": [
       "<div>\n",
       "<style scoped>\n",
       "    .dataframe tbody tr th:only-of-type {\n",
       "        vertical-align: middle;\n",
       "    }\n",
       "\n",
       "    .dataframe tbody tr th {\n",
       "        vertical-align: top;\n",
       "    }\n",
       "\n",
       "    .dataframe thead th {\n",
       "        text-align: right;\n",
       "    }\n",
       "</style>\n",
       "<table border=\"1\" class=\"dataframe\">\n",
       "  <thead>\n",
       "    <tr style=\"text-align: right;\">\n",
       "      <th></th>\n",
       "      <th>COUNT(DISTINCT language)</th>\n",
       "    </tr>\n",
       "  </thead>\n",
       "  <tbody>\n",
       "    <tr>\n",
       "      <th>0</th>\n",
       "      <td>103</td>\n",
       "    </tr>\n",
       "  </tbody>\n",
       "</table>\n",
       "</div>"
      ],
      "text/plain": [
       "   COUNT(DISTINCT language)\n",
       "0                       103"
      ]
     },
     "execution_count": 9,
     "metadata": {},
     "output_type": "execute_result"
    }
   ],
   "source": [
    "dsutils.execute_query(credentials, sql_string)"
   ]
  },
  {
   "cell_type": "markdown",
   "metadata": {
    "id": "Z8adijd1ff5T"
   },
   "source": [
    "### Query DB Meta Information\n",
    "\n",
    "We can use SQL to access meta-information about the data and the db."
   ]
  },
  {
   "cell_type": "code",
   "execution_count": 10,
   "metadata": {},
   "outputs": [
    {
     "data": {
      "text/html": [
       "<div>\n",
       "<style scoped>\n",
       "    .dataframe tbody tr th:only-of-type {\n",
       "        vertical-align: middle;\n",
       "    }\n",
       "\n",
       "    .dataframe tbody tr th {\n",
       "        vertical-align: top;\n",
       "    }\n",
       "\n",
       "    .dataframe thead th {\n",
       "        text-align: right;\n",
       "    }\n",
       "</style>\n",
       "<table border=\"1\" class=\"dataframe\">\n",
       "  <thead>\n",
       "    <tr style=\"text-align: right;\">\n",
       "      <th></th>\n",
       "      <th>Tables_in_world</th>\n",
       "    </tr>\n",
       "  </thead>\n",
       "  <tbody>\n",
       "    <tr>\n",
       "      <th>0</th>\n",
       "      <td>city</td>\n",
       "    </tr>\n",
       "    <tr>\n",
       "      <th>1</th>\n",
       "      <td>country</td>\n",
       "    </tr>\n",
       "    <tr>\n",
       "      <th>2</th>\n",
       "      <td>countrylanguage</td>\n",
       "    </tr>\n",
       "  </tbody>\n",
       "</table>\n",
       "</div>"
      ],
      "text/plain": [
       "   Tables_in_world\n",
       "0             city\n",
       "1          country\n",
       "2  countrylanguage"
      ]
     },
     "execution_count": 10,
     "metadata": {},
     "output_type": "execute_result"
    }
   ],
   "source": [
    "data = dsutils.execute_query(credentials, 'SHOW TABLES')\n",
    "data"
   ]
  },
  {
   "cell_type": "code",
   "execution_count": 11,
   "metadata": {},
   "outputs": [
    {
     "name": "stdout",
     "output_type": "stream",
     "text": [
      "There are 3 tables in the world database\n",
      "The tables are: city, country, countrylanguage\n"
     ]
    }
   ],
   "source": [
    "# format the output nicely\n",
    "print(f\"There are {data.shape[0]} tables in the {credentials.userdb} database\")\n",
    "print(\"The tables are: \" + \", \".join(list(data.iloc[:,0])))"
   ]
  },
  {
   "cell_type": "markdown",
   "metadata": {
    "id": "3oBwIrODff5U"
   },
   "source": [
    "We can look at columns of a table together with their meta-information."
   ]
  },
  {
   "cell_type": "code",
   "execution_count": 12,
   "metadata": {},
   "outputs": [
    {
     "data": {
      "text/html": [
       "<div>\n",
       "<style scoped>\n",
       "    .dataframe tbody tr th:only-of-type {\n",
       "        vertical-align: middle;\n",
       "    }\n",
       "\n",
       "    .dataframe tbody tr th {\n",
       "        vertical-align: top;\n",
       "    }\n",
       "\n",
       "    .dataframe thead th {\n",
       "        text-align: right;\n",
       "    }\n",
       "</style>\n",
       "<table border=\"1\" class=\"dataframe\">\n",
       "  <thead>\n",
       "    <tr style=\"text-align: right;\">\n",
       "      <th></th>\n",
       "      <th>Field</th>\n",
       "      <th>Type</th>\n",
       "      <th>Null</th>\n",
       "      <th>Key</th>\n",
       "      <th>Default</th>\n",
       "      <th>Extra</th>\n",
       "    </tr>\n",
       "  </thead>\n",
       "  <tbody>\n",
       "    <tr>\n",
       "      <th>0</th>\n",
       "      <td>Code</td>\n",
       "      <td>char(3)</td>\n",
       "      <td>NO</td>\n",
       "      <td>PRI</td>\n",
       "      <td></td>\n",
       "      <td></td>\n",
       "    </tr>\n",
       "    <tr>\n",
       "      <th>1</th>\n",
       "      <td>Name</td>\n",
       "      <td>char(52)</td>\n",
       "      <td>NO</td>\n",
       "      <td></td>\n",
       "      <td></td>\n",
       "      <td></td>\n",
       "    </tr>\n",
       "    <tr>\n",
       "      <th>2</th>\n",
       "      <td>Continent</td>\n",
       "      <td>enum('Asia','Europe','North America','Africa',...</td>\n",
       "      <td>NO</td>\n",
       "      <td></td>\n",
       "      <td>Asia</td>\n",
       "      <td></td>\n",
       "    </tr>\n",
       "    <tr>\n",
       "      <th>3</th>\n",
       "      <td>Region</td>\n",
       "      <td>char(26)</td>\n",
       "      <td>NO</td>\n",
       "      <td></td>\n",
       "      <td></td>\n",
       "      <td></td>\n",
       "    </tr>\n",
       "    <tr>\n",
       "      <th>4</th>\n",
       "      <td>SurfaceArea</td>\n",
       "      <td>float(10,2)</td>\n",
       "      <td>NO</td>\n",
       "      <td></td>\n",
       "      <td>0.00</td>\n",
       "      <td></td>\n",
       "    </tr>\n",
       "    <tr>\n",
       "      <th>5</th>\n",
       "      <td>IndepYear</td>\n",
       "      <td>smallint(6)</td>\n",
       "      <td>YES</td>\n",
       "      <td></td>\n",
       "      <td>None</td>\n",
       "      <td></td>\n",
       "    </tr>\n",
       "    <tr>\n",
       "      <th>6</th>\n",
       "      <td>Population</td>\n",
       "      <td>int(11)</td>\n",
       "      <td>NO</td>\n",
       "      <td></td>\n",
       "      <td>0</td>\n",
       "      <td></td>\n",
       "    </tr>\n",
       "    <tr>\n",
       "      <th>7</th>\n",
       "      <td>LifeExpectancy</td>\n",
       "      <td>float(3,1)</td>\n",
       "      <td>YES</td>\n",
       "      <td></td>\n",
       "      <td>None</td>\n",
       "      <td></td>\n",
       "    </tr>\n",
       "    <tr>\n",
       "      <th>8</th>\n",
       "      <td>GNP</td>\n",
       "      <td>float(10,2)</td>\n",
       "      <td>YES</td>\n",
       "      <td></td>\n",
       "      <td>None</td>\n",
       "      <td></td>\n",
       "    </tr>\n",
       "    <tr>\n",
       "      <th>9</th>\n",
       "      <td>GNPOld</td>\n",
       "      <td>float(10,2)</td>\n",
       "      <td>YES</td>\n",
       "      <td></td>\n",
       "      <td>None</td>\n",
       "      <td></td>\n",
       "    </tr>\n",
       "    <tr>\n",
       "      <th>10</th>\n",
       "      <td>LocalName</td>\n",
       "      <td>char(45)</td>\n",
       "      <td>NO</td>\n",
       "      <td></td>\n",
       "      <td></td>\n",
       "      <td></td>\n",
       "    </tr>\n",
       "    <tr>\n",
       "      <th>11</th>\n",
       "      <td>GovernmentForm</td>\n",
       "      <td>char(45)</td>\n",
       "      <td>NO</td>\n",
       "      <td></td>\n",
       "      <td></td>\n",
       "      <td></td>\n",
       "    </tr>\n",
       "    <tr>\n",
       "      <th>12</th>\n",
       "      <td>HeadOfState</td>\n",
       "      <td>char(60)</td>\n",
       "      <td>YES</td>\n",
       "      <td></td>\n",
       "      <td>None</td>\n",
       "      <td></td>\n",
       "    </tr>\n",
       "    <tr>\n",
       "      <th>13</th>\n",
       "      <td>Capital</td>\n",
       "      <td>int(11)</td>\n",
       "      <td>YES</td>\n",
       "      <td></td>\n",
       "      <td>None</td>\n",
       "      <td></td>\n",
       "    </tr>\n",
       "    <tr>\n",
       "      <th>14</th>\n",
       "      <td>Code2</td>\n",
       "      <td>char(2)</td>\n",
       "      <td>NO</td>\n",
       "      <td></td>\n",
       "      <td></td>\n",
       "      <td></td>\n",
       "    </tr>\n",
       "  </tbody>\n",
       "</table>\n",
       "</div>"
      ],
      "text/plain": [
       "             Field                                               Type Null  \\\n",
       "0             Code                                            char(3)   NO   \n",
       "1             Name                                           char(52)   NO   \n",
       "2        Continent  enum('Asia','Europe','North America','Africa',...   NO   \n",
       "3           Region                                           char(26)   NO   \n",
       "4      SurfaceArea                                        float(10,2)   NO   \n",
       "5        IndepYear                                        smallint(6)  YES   \n",
       "6       Population                                            int(11)   NO   \n",
       "7   LifeExpectancy                                         float(3,1)  YES   \n",
       "8              GNP                                        float(10,2)  YES   \n",
       "9           GNPOld                                        float(10,2)  YES   \n",
       "10       LocalName                                           char(45)   NO   \n",
       "11  GovernmentForm                                           char(45)   NO   \n",
       "12     HeadOfState                                           char(60)  YES   \n",
       "13         Capital                                            int(11)  YES   \n",
       "14           Code2                                            char(2)   NO   \n",
       "\n",
       "    Key Default Extra  \n",
       "0   PRI                \n",
       "1                      \n",
       "2          Asia        \n",
       "3                      \n",
       "4          0.00        \n",
       "5          None        \n",
       "6             0        \n",
       "7          None        \n",
       "8          None        \n",
       "9          None        \n",
       "10                     \n",
       "11                     \n",
       "12         None        \n",
       "13         None        \n",
       "14                     "
      ]
     },
     "execution_count": 12,
     "metadata": {},
     "output_type": "execute_result"
    }
   ],
   "source": [
    "data = dsutils.execute_query(credentials, 'SHOW COLUMNS FROM country')\n",
    "data"
   ]
  },
  {
   "cell_type": "code",
   "execution_count": 13,
   "metadata": {},
   "outputs": [
    {
     "data": {
      "text/html": [
       "<div>\n",
       "<style scoped>\n",
       "    .dataframe tbody tr th:only-of-type {\n",
       "        vertical-align: middle;\n",
       "    }\n",
       "\n",
       "    .dataframe tbody tr th {\n",
       "        vertical-align: top;\n",
       "    }\n",
       "\n",
       "    .dataframe thead th {\n",
       "        text-align: right;\n",
       "    }\n",
       "</style>\n",
       "<table border=\"1\" class=\"dataframe\">\n",
       "  <thead>\n",
       "    <tr style=\"text-align: right;\">\n",
       "      <th></th>\n",
       "      <th>Key</th>\n",
       "      <th>Field</th>\n",
       "      <th>Type</th>\n",
       "    </tr>\n",
       "  </thead>\n",
       "  <tbody>\n",
       "    <tr>\n",
       "      <th>0</th>\n",
       "      <td>PRI</td>\n",
       "      <td>Code</td>\n",
       "      <td>char(3)</td>\n",
       "    </tr>\n",
       "    <tr>\n",
       "      <th>1</th>\n",
       "      <td></td>\n",
       "      <td>Name</td>\n",
       "      <td>char(52)</td>\n",
       "    </tr>\n",
       "    <tr>\n",
       "      <th>2</th>\n",
       "      <td></td>\n",
       "      <td>Continent</td>\n",
       "      <td>enum('Asia','Europe','North America','Africa',...</td>\n",
       "    </tr>\n",
       "    <tr>\n",
       "      <th>3</th>\n",
       "      <td></td>\n",
       "      <td>Region</td>\n",
       "      <td>char(26)</td>\n",
       "    </tr>\n",
       "    <tr>\n",
       "      <th>4</th>\n",
       "      <td></td>\n",
       "      <td>SurfaceArea</td>\n",
       "      <td>float(10,2)</td>\n",
       "    </tr>\n",
       "    <tr>\n",
       "      <th>5</th>\n",
       "      <td></td>\n",
       "      <td>IndepYear</td>\n",
       "      <td>smallint(6)</td>\n",
       "    </tr>\n",
       "    <tr>\n",
       "      <th>6</th>\n",
       "      <td></td>\n",
       "      <td>Population</td>\n",
       "      <td>int(11)</td>\n",
       "    </tr>\n",
       "    <tr>\n",
       "      <th>7</th>\n",
       "      <td></td>\n",
       "      <td>LifeExpectancy</td>\n",
       "      <td>float(3,1)</td>\n",
       "    </tr>\n",
       "    <tr>\n",
       "      <th>8</th>\n",
       "      <td></td>\n",
       "      <td>GNP</td>\n",
       "      <td>float(10,2)</td>\n",
       "    </tr>\n",
       "    <tr>\n",
       "      <th>9</th>\n",
       "      <td></td>\n",
       "      <td>GNPOld</td>\n",
       "      <td>float(10,2)</td>\n",
       "    </tr>\n",
       "    <tr>\n",
       "      <th>10</th>\n",
       "      <td></td>\n",
       "      <td>LocalName</td>\n",
       "      <td>char(45)</td>\n",
       "    </tr>\n",
       "    <tr>\n",
       "      <th>11</th>\n",
       "      <td></td>\n",
       "      <td>GovernmentForm</td>\n",
       "      <td>char(45)</td>\n",
       "    </tr>\n",
       "    <tr>\n",
       "      <th>12</th>\n",
       "      <td></td>\n",
       "      <td>HeadOfState</td>\n",
       "      <td>char(60)</td>\n",
       "    </tr>\n",
       "    <tr>\n",
       "      <th>13</th>\n",
       "      <td></td>\n",
       "      <td>Capital</td>\n",
       "      <td>int(11)</td>\n",
       "    </tr>\n",
       "    <tr>\n",
       "      <th>14</th>\n",
       "      <td></td>\n",
       "      <td>Code2</td>\n",
       "      <td>char(2)</td>\n",
       "    </tr>\n",
       "  </tbody>\n",
       "</table>\n",
       "</div>"
      ],
      "text/plain": [
       "    Key           Field                                               Type\n",
       "0   PRI            Code                                            char(3)\n",
       "1                  Name                                           char(52)\n",
       "2             Continent  enum('Asia','Europe','North America','Africa',...\n",
       "3                Region                                           char(26)\n",
       "4           SurfaceArea                                        float(10,2)\n",
       "5             IndepYear                                        smallint(6)\n",
       "6            Population                                            int(11)\n",
       "7        LifeExpectancy                                         float(3,1)\n",
       "8                   GNP                                        float(10,2)\n",
       "9                GNPOld                                        float(10,2)\n",
       "10            LocalName                                           char(45)\n",
       "11       GovernmentForm                                           char(45)\n",
       "12          HeadOfState                                           char(60)\n",
       "13              Capital                                            int(11)\n",
       "14                Code2                                            char(2)"
      ]
     },
     "execution_count": 13,
     "metadata": {},
     "output_type": "execute_result"
    }
   ],
   "source": [
    "# only show columns of interest to us in the order we want\n",
    "data[['Key','Field','Type']]"
   ]
  },
  {
   "cell_type": "markdown",
   "metadata": {
    "id": "rTv9MvD3QW-1"
   },
   "source": [
    "Try the above queries for tables `city` and `countrylanguage`."
   ]
  },
  {
   "cell_type": "markdown",
   "metadata": {
    "id": "hUHFWbVPff5W"
   },
   "source": [
    "## Joins\n",
    "\n",
    "A [SQL join](https://en.wikipedia.org/wiki/Join_(SQL)) combines columns from different tables in a relational database by using values common to each.  The most common join is the `INNER JOIN` which constructs a return set with the rows from each table for which the join condition is true.\n",
    "\n"
   ]
  },
  {
   "cell_type": "markdown",
   "metadata": {
    "id": "kTahVlUXff5W"
   },
   "source": [
    "This is where the foreign keys come in handy -- recall that foreign keys are like pointers from one table to another and are used in a join to create the joined result set,\n",
    "\n",
    "<img src=\"https://static.packt-cdn.com/products/9781788390415/graphics/cac1f609-1c45-46d7-b066-d9481ceddf18.png\">\n",
    "\n"
   ]
  },
  {
   "cell_type": "markdown",
   "metadata": {
    "id": "VbBU3uj_K9LW"
   },
   "source": [
    "The SQL select statement allows you to construct a result set made up of columns from different tables.  The basic syntax of the command for this is as follows,\n",
    "\n",
    "```\n",
    "SELECT\n",
    "  <table qualifier>.<column name>,\n",
    "  <table qualifier>.<column name>,\n",
    "    ...\n",
    "  <table qualifier>.<column name>   <<<-- NO COMMA ON THE LAST ONE!\n",
    "FROM\n",
    "  <reference table name>\n",
    "JOIN\n",
    "  <join table 1>\n",
    "ON\n",
    "  <join condition 1>\n",
    "    ...\n",
    "JOIN\n",
    "  <joint table n>\n",
    "ON\n",
    "  <join condition n>;\n",
    "```\n",
    "\n",
    "The `<table qualifier>` in the result set construction is either the reference table name or one of the join table names.  The `<column name>` refers to a column in the qualified table."
   ]
  },
  {
   "cell_type": "markdown",
   "metadata": {
    "id": "GnM6DBBdK1im"
   },
   "source": [
    "Let's try some joins in our world database."
   ]
  },
  {
   "cell_type": "markdown",
   "metadata": {
    "id": "-ApPMMR7ff5W"
   },
   "source": [
    "We want to print out the top 10 city names together with their country names and their populations.  All we need to do is select appropriate columns from the join result table."
   ]
  },
  {
   "cell_type": "code",
   "execution_count": 14,
   "metadata": {
    "colab": {
     "base_uri": "https://localhost:8080/"
    },
    "executionInfo": {
     "elapsed": 556,
     "status": "ok",
     "timestamp": 1708180576610,
     "user": {
      "displayName": "Lutz Hamel",
      "userId": "14403832647301437887"
     },
     "user_tz": 300
    },
    "id": "rYARlaZFff5X",
    "outputId": "36ad67a3-f86b-4b36-b77a-2354e7d95274",
    "scrolled": true
   },
   "outputs": [],
   "source": [
    "# print out the top 10 city names with country names and populations.\n",
    "\n",
    "# Notice the table qualifiers on the column names\n",
    "# also notice that we can rename columns in the query to more\n",
    "# more convenient names\n",
    "\n",
    "sql_string = \\\n",
    "'''\n",
    "SELECT\n",
    "    city.name AS City,\n",
    "    country.name AS Country,\n",
    "    city.population AS CityPopulation\n",
    "FROM\n",
    "    city\n",
    "JOIN         -- join city and country tables\n",
    "    country\n",
    "ON\n",
    "    city.countrycode = country.code  -- foreign/primary key\n",
    "ORDER\n",
    "    BY city.population DESC\n",
    "LIMIT\n",
    "    10\n",
    "'''\n"
   ]
  },
  {
   "cell_type": "code",
   "execution_count": 15,
   "metadata": {},
   "outputs": [
    {
     "data": {
      "text/html": [
       "<div>\n",
       "<style scoped>\n",
       "    .dataframe tbody tr th:only-of-type {\n",
       "        vertical-align: middle;\n",
       "    }\n",
       "\n",
       "    .dataframe tbody tr th {\n",
       "        vertical-align: top;\n",
       "    }\n",
       "\n",
       "    .dataframe thead th {\n",
       "        text-align: right;\n",
       "    }\n",
       "</style>\n",
       "<table border=\"1\" class=\"dataframe\">\n",
       "  <thead>\n",
       "    <tr style=\"text-align: right;\">\n",
       "      <th></th>\n",
       "      <th>City</th>\n",
       "      <th>Country</th>\n",
       "      <th>CityPopulation</th>\n",
       "    </tr>\n",
       "  </thead>\n",
       "  <tbody>\n",
       "    <tr>\n",
       "      <th>0</th>\n",
       "      <td>Mumbai (Bombay)</td>\n",
       "      <td>India</td>\n",
       "      <td>10500000</td>\n",
       "    </tr>\n",
       "    <tr>\n",
       "      <th>1</th>\n",
       "      <td>Seoul</td>\n",
       "      <td>South Korea</td>\n",
       "      <td>9981619</td>\n",
       "    </tr>\n",
       "    <tr>\n",
       "      <th>2</th>\n",
       "      <td>São Paulo</td>\n",
       "      <td>Brazil</td>\n",
       "      <td>9968485</td>\n",
       "    </tr>\n",
       "    <tr>\n",
       "      <th>3</th>\n",
       "      <td>Shanghai</td>\n",
       "      <td>China</td>\n",
       "      <td>9696300</td>\n",
       "    </tr>\n",
       "    <tr>\n",
       "      <th>4</th>\n",
       "      <td>Jakarta</td>\n",
       "      <td>Indonesia</td>\n",
       "      <td>9604900</td>\n",
       "    </tr>\n",
       "    <tr>\n",
       "      <th>5</th>\n",
       "      <td>Karachi</td>\n",
       "      <td>Pakistan</td>\n",
       "      <td>9269265</td>\n",
       "    </tr>\n",
       "    <tr>\n",
       "      <th>6</th>\n",
       "      <td>Istanbul</td>\n",
       "      <td>Turkey</td>\n",
       "      <td>8787958</td>\n",
       "    </tr>\n",
       "    <tr>\n",
       "      <th>7</th>\n",
       "      <td>Ciudad de México</td>\n",
       "      <td>Mexico</td>\n",
       "      <td>8591309</td>\n",
       "    </tr>\n",
       "    <tr>\n",
       "      <th>8</th>\n",
       "      <td>Moscow</td>\n",
       "      <td>Russian Federation</td>\n",
       "      <td>8389200</td>\n",
       "    </tr>\n",
       "    <tr>\n",
       "      <th>9</th>\n",
       "      <td>New York</td>\n",
       "      <td>United States</td>\n",
       "      <td>8008278</td>\n",
       "    </tr>\n",
       "  </tbody>\n",
       "</table>\n",
       "</div>"
      ],
      "text/plain": [
       "               City             Country  CityPopulation\n",
       "0   Mumbai (Bombay)               India        10500000\n",
       "1             Seoul         South Korea         9981619\n",
       "2         São Paulo              Brazil         9968485\n",
       "3          Shanghai               China         9696300\n",
       "4           Jakarta           Indonesia         9604900\n",
       "5           Karachi            Pakistan         9269265\n",
       "6          Istanbul              Turkey         8787958\n",
       "7  Ciudad de México              Mexico         8591309\n",
       "8            Moscow  Russian Federation         8389200\n",
       "9          New York       United States         8008278"
      ]
     },
     "execution_count": 15,
     "metadata": {},
     "output_type": "execute_result"
    }
   ],
   "source": [
    "dsutils.execute_query(credentials, sql_string)"
   ]
  },
  {
   "cell_type": "markdown",
   "metadata": {
    "id": "dIc4gq9Aff5X"
   },
   "source": [
    "Let's try another one: let's query each city with its population and its country's population.  We will also compute and print out what fraction of the overall country population the city population represents."
   ]
  },
  {
   "cell_type": "code",
   "execution_count": 16,
   "metadata": {
    "colab": {
     "base_uri": "https://localhost:8080/"
    },
    "executionInfo": {
     "elapsed": 496,
     "status": "ok",
     "timestamp": 1708180577104,
     "user": {
      "displayName": "Lutz Hamel",
      "userId": "14403832647301437887"
     },
     "user_tz": 300
    },
    "id": "4iSmpD5iff5X",
    "outputId": "55c438d0-5484-42a8-a452-949e2b092a51",
    "scrolled": true
   },
   "outputs": [],
   "source": [
    "# let's query each city with its population and its country's population.\n",
    "sql_string = \\\n",
    "'''\n",
    "SELECT\n",
    "    country.name AS Country,\n",
    "    city.name AS City,\n",
    "    city.population AS CityPop,\n",
    "    country.population AS CountryPop,\n",
    "    city.population / country.population AS Fraction\n",
    "FROM\n",
    "    city\n",
    "JOIN\n",
    "    country\n",
    "ON\n",
    "    city.countrycode = country.code\n",
    "ORDER\n",
    "    BY Fraction DESC\n",
    "LIMIT\n",
    "    10\n",
    "'''"
   ]
  },
  {
   "cell_type": "code",
   "execution_count": 17,
   "metadata": {},
   "outputs": [
    {
     "data": {
      "text/html": [
       "<div>\n",
       "<style scoped>\n",
       "    .dataframe tbody tr th:only-of-type {\n",
       "        vertical-align: middle;\n",
       "    }\n",
       "\n",
       "    .dataframe tbody tr th {\n",
       "        vertical-align: top;\n",
       "    }\n",
       "\n",
       "    .dataframe thead th {\n",
       "        text-align: right;\n",
       "    }\n",
       "</style>\n",
       "<table border=\"1\" class=\"dataframe\">\n",
       "  <thead>\n",
       "    <tr style=\"text-align: right;\">\n",
       "      <th></th>\n",
       "      <th>Country</th>\n",
       "      <th>City</th>\n",
       "      <th>CityPop</th>\n",
       "      <th>CountryPop</th>\n",
       "      <th>Fraction</th>\n",
       "    </tr>\n",
       "  </thead>\n",
       "  <tbody>\n",
       "    <tr>\n",
       "      <th>0</th>\n",
       "      <td>Singapore</td>\n",
       "      <td>Singapore</td>\n",
       "      <td>4017733</td>\n",
       "      <td>3567000</td>\n",
       "      <td>1.1264</td>\n",
       "    </tr>\n",
       "    <tr>\n",
       "      <th>1</th>\n",
       "      <td>Gibraltar</td>\n",
       "      <td>Gibraltar</td>\n",
       "      <td>27025</td>\n",
       "      <td>25000</td>\n",
       "      <td>1.0810</td>\n",
       "    </tr>\n",
       "    <tr>\n",
       "      <th>2</th>\n",
       "      <td>Macao</td>\n",
       "      <td>Macao</td>\n",
       "      <td>437500</td>\n",
       "      <td>473000</td>\n",
       "      <td>0.9249</td>\n",
       "    </tr>\n",
       "    <tr>\n",
       "      <th>3</th>\n",
       "      <td>Pitcairn</td>\n",
       "      <td>Adamstown</td>\n",
       "      <td>42</td>\n",
       "      <td>50</td>\n",
       "      <td>0.8400</td>\n",
       "    </tr>\n",
       "    <tr>\n",
       "      <th>4</th>\n",
       "      <td>Cocos (Keeling) Islands</td>\n",
       "      <td>Bantam</td>\n",
       "      <td>503</td>\n",
       "      <td>600</td>\n",
       "      <td>0.8383</td>\n",
       "    </tr>\n",
       "    <tr>\n",
       "      <th>5</th>\n",
       "      <td>Saint Pierre and Miquelon</td>\n",
       "      <td>Saint-Pierre</td>\n",
       "      <td>5808</td>\n",
       "      <td>7000</td>\n",
       "      <td>0.8297</td>\n",
       "    </tr>\n",
       "    <tr>\n",
       "      <th>6</th>\n",
       "      <td>Falkland Islands</td>\n",
       "      <td>Stanley</td>\n",
       "      <td>1636</td>\n",
       "      <td>2000</td>\n",
       "      <td>0.8180</td>\n",
       "    </tr>\n",
       "    <tr>\n",
       "      <th>7</th>\n",
       "      <td>Palau</td>\n",
       "      <td>Koror</td>\n",
       "      <td>12000</td>\n",
       "      <td>19000</td>\n",
       "      <td>0.6316</td>\n",
       "    </tr>\n",
       "    <tr>\n",
       "      <th>8</th>\n",
       "      <td>Djibouti</td>\n",
       "      <td>Djibouti</td>\n",
       "      <td>383000</td>\n",
       "      <td>638000</td>\n",
       "      <td>0.6003</td>\n",
       "    </tr>\n",
       "    <tr>\n",
       "      <th>9</th>\n",
       "      <td>Cook Islands</td>\n",
       "      <td>Avarua</td>\n",
       "      <td>11900</td>\n",
       "      <td>20000</td>\n",
       "      <td>0.5950</td>\n",
       "    </tr>\n",
       "  </tbody>\n",
       "</table>\n",
       "</div>"
      ],
      "text/plain": [
       "                     Country          City  CityPop  CountryPop  Fraction\n",
       "0                  Singapore     Singapore  4017733     3567000    1.1264\n",
       "1                  Gibraltar     Gibraltar    27025       25000    1.0810\n",
       "2                      Macao         Macao   437500      473000    0.9249\n",
       "3                   Pitcairn     Adamstown       42          50    0.8400\n",
       "4    Cocos (Keeling) Islands        Bantam      503         600    0.8383\n",
       "5  Saint Pierre and Miquelon  Saint-Pierre     5808        7000    0.8297\n",
       "6           Falkland Islands       Stanley     1636        2000    0.8180\n",
       "7                      Palau         Koror    12000       19000    0.6316\n",
       "8                   Djibouti      Djibouti   383000      638000    0.6003\n",
       "9               Cook Islands        Avarua    11900       20000    0.5950"
      ]
     },
     "execution_count": 17,
     "metadata": {},
     "output_type": "execute_result"
    }
   ],
   "source": [
    "dsutils.execute_query(credentials, sql_string)"
   ]
  },
  {
   "cell_type": "markdown",
   "metadata": {
    "id": "eDJZG0sJff5Y"
   },
   "source": [
    "One more! Print out how many cities are recorded for the USA, their average population, total population of US."
   ]
  },
  {
   "cell_type": "code",
   "execution_count": 18,
   "metadata": {
    "colab": {
     "base_uri": "https://localhost:8080/"
    },
    "executionInfo": {
     "elapsed": 250,
     "status": "ok",
     "timestamp": 1708180577351,
     "user": {
      "displayName": "Lutz Hamel",
      "userId": "14403832647301437887"
     },
     "user_tz": 300
    },
    "id": "Rde_y6Zsff5Y",
    "outputId": "a01ca79e-7598-45b2-f94c-f3c2411f8fef",
    "scrolled": true
   },
   "outputs": [],
   "source": [
    "# print out number of US cities in the DB together with their average population\n",
    "sql_string = \\\n",
    "'''\n",
    "SELECT\n",
    "    COUNT(city.name) as number,\n",
    "    AVG(city.population) as avg_pop,\n",
    "    country.population as population\n",
    "FROM\n",
    "    city\n",
    "JOIN\n",
    "    country\n",
    "ON\n",
    "    city.countrycode = country.code\n",
    "WHERE\n",
    "    country.code = 'USA';\n",
    "'''\n"
   ]
  },
  {
   "cell_type": "code",
   "execution_count": 19,
   "metadata": {},
   "outputs": [
    {
     "data": {
      "text/html": [
       "<div>\n",
       "<style scoped>\n",
       "    .dataframe tbody tr th:only-of-type {\n",
       "        vertical-align: middle;\n",
       "    }\n",
       "\n",
       "    .dataframe tbody tr th {\n",
       "        vertical-align: top;\n",
       "    }\n",
       "\n",
       "    .dataframe thead th {\n",
       "        text-align: right;\n",
       "    }\n",
       "</style>\n",
       "<table border=\"1\" class=\"dataframe\">\n",
       "  <thead>\n",
       "    <tr style=\"text-align: right;\">\n",
       "      <th></th>\n",
       "      <th>number</th>\n",
       "      <th>avg_pop</th>\n",
       "      <th>population</th>\n",
       "    </tr>\n",
       "  </thead>\n",
       "  <tbody>\n",
       "    <tr>\n",
       "      <th>0</th>\n",
       "      <td>274</td>\n",
       "      <td>286955.3796</td>\n",
       "      <td>278357000</td>\n",
       "    </tr>\n",
       "  </tbody>\n",
       "</table>\n",
       "</div>"
      ],
      "text/plain": [
       "   number      avg_pop  population\n",
       "0     274  286955.3796   278357000"
      ]
     },
     "execution_count": 19,
     "metadata": {},
     "output_type": "execute_result"
    }
   ],
   "source": [
    "dsutils.execute_query(credentials, sql_string)"
   ]
  }
 ],
 "metadata": {
  "colab": {
   "provenance": []
  },
  "kernelspec": {
   "display_name": "Python 3",
   "language": "python",
   "name": "python3"
  },
  "language_info": {
   "codemirror_mode": {
    "name": "ipython",
    "version": 3
   },
   "file_extension": ".py",
   "mimetype": "text/x-python",
   "name": "python",
   "nbconvert_exporter": "python",
   "pygments_lexer": "ipython3",
   "version": "3.13.1"
  }
 },
 "nbformat": 4,
 "nbformat_minor": 0
}
