{
 "cells": [
  {
   "cell_type": "code",
   "execution_count": 1,
   "metadata": {
    "colab": {
     "base_uri": "https://localhost:8080/"
    },
    "executionInfo": {
     "elapsed": 838,
     "status": "ok",
     "timestamp": 1711633800794,
     "user": {
      "displayName": "Lutz Hamel",
      "userId": "10287662568849688016"
     },
     "user_tz": 240
    },
    "id": "PR9RuM4Jff5J",
    "outputId": "c5bb49be-8353-490f-cf83-667b34cfac5b"
   },
   "outputs": [
    {
     "name": "stdout",
     "output_type": "stream",
     "text": [
      "Already up to date.\n"
     ]
    }
   ],
   "source": [
    "###### Config #####\n",
    "import sys, os, platform\n",
    "if os.path.isdir(\"ds-assets\"):\n",
    "  !cd ds-assets && git pull\n",
    "else:\n",
    "  !git clone https://github.com/lutzhamel/ds-assets.git\n",
    "colab = True if 'google.colab' in os.sys.modules else False\n",
    "system = platform.system() # \"Windows\", \"Linux\", \"Darwin\"\n",
    "home = \"ds-assets/assets/\"\n",
    "sys.path.append(home)"
   ]
  },
  {
   "cell_type": "code",
   "execution_count": 3,
   "metadata": {},
   "outputs": [],
   "source": [
    "# notebook level imports\n",
    "import pandas\n",
    "import dsutils  # DBCredentials, execute_query, elbow_plot\n",
    "from sklearn import cluster  # KMeans\n"
   ]
  },
  {
   "cell_type": "code",
   "execution_count": 4,
   "metadata": {
    "executionInfo": {
     "elapsed": 6,
     "status": "ok",
     "timestamp": 1711633806875,
     "user": {
      "displayName": "Lutz Hamel",
      "userId": "10287662568849688016"
     },
     "user_tz": 240
    },
    "id": "MZjRUvXjff5P"
   },
   "outputs": [],
   "source": [
    "# our database credentials\n",
    "credentials = dsutils.DBCredentials(\n",
    "   host = 'testdb.cwy05wfzuxbv.us-east-1.rds.amazonaws.com',\n",
    "   userdb = 'world',\n",
    "   user = 'csc310',\n",
    "   password = 'csc310$is$fun')"
   ]
  },
  {
   "cell_type": "markdown",
   "metadata": {},
   "source": [
    "# Data Science with Databases"
   ]
  },
  {
   "cell_type": "markdown",
   "metadata": {
    "id": "dQ65M78lff5P"
   },
   "source": [
    "Just for reference, the schema of our world database looks as follows:\n",
    "\n",
    "<img src=\"https://static.packt-cdn.com/products/9781788390415/graphics/cac1f609-1c45-46d7-b066-d9481ceddf18.png\">\n"
   ]
  },
  {
   "cell_type": "markdown",
   "metadata": {
    "id": "5NUUeKAnff5R"
   },
   "source": [
    "<hr>\n",
    "\n",
    "**Question**: Cluster the cities in the DB according to their populations.\n",
    "1. How many clusters are there?\n",
    "2. What is the average population of the cities in each of the clusters?\n",
    "\n",
    "<hr>"
   ]
  },
  {
   "cell_type": "markdown",
   "metadata": {
    "id": "T-1OfOT62w9I"
   },
   "source": [
    "First, how many cities are there in our DB?"
   ]
  },
  {
   "cell_type": "code",
   "execution_count": 5,
   "metadata": {
    "colab": {
     "base_uri": "https://localhost:8080/"
    },
    "executionInfo": {
     "elapsed": 193,
     "status": "ok",
     "timestamp": 1711633807063,
     "user": {
      "displayName": "Lutz Hamel",
      "userId": "10287662568849688016"
     },
     "user_tz": 240
    },
    "id": "Z_3kH1agff5R",
    "outputId": "5425fa75-9456-4b71-ad1d-69bd8326f43b"
   },
   "outputs": [],
   "source": [
    "# how many cities are in our DB?\n",
    "sql_string = \\\n",
    "'''\n",
    "SELECT\n",
    "    COUNT(*) as NumberOfCities\n",
    "FROM\n",
    "    city\n",
    "'''"
   ]
  },
  {
   "cell_type": "code",
   "execution_count": null,
   "metadata": {},
   "outputs": [
    {
     "data": {
      "text/html": [
       "<div>\n",
       "<style scoped>\n",
       "    .dataframe tbody tr th:only-of-type {\n",
       "        vertical-align: middle;\n",
       "    }\n",
       "\n",
       "    .dataframe tbody tr th {\n",
       "        vertical-align: top;\n",
       "    }\n",
       "\n",
       "    .dataframe thead th {\n",
       "        text-align: right;\n",
       "    }\n",
       "</style>\n",
       "<table border=\"1\" class=\"dataframe\">\n",
       "  <thead>\n",
       "    <tr style=\"text-align: right;\">\n",
       "      <th></th>\n",
       "      <th>NumberOfCities</th>\n",
       "    </tr>\n",
       "  </thead>\n",
       "  <tbody>\n",
       "    <tr>\n",
       "      <th>0</th>\n",
       "      <td>4079</td>\n",
       "    </tr>\n",
       "  </tbody>\n",
       "</table>\n",
       "</div>"
      ],
      "text/plain": [
       "   NumberOfCities\n",
       "0            4079"
      ]
     },
     "execution_count": 6,
     "metadata": {},
     "output_type": "execute_result"
    }
   ],
   "source": [
    "dsutils.execute_query(credentials, sql_string)"
   ]
  },
  {
   "cell_type": "markdown",
   "metadata": {
    "id": "VySphYEhhtor"
   },
   "source": [
    "We have too many cities to cluster.  We'll take a **random sample** of 1000 cities and return the population size of each of the cities in the sample.\n",
    "\n",
    "**NOTE**: \n",
    "* We want to have the **server to perform as much of the work as possible** \n",
    "* **We let the server compute our sample**"
   ]
  },
  {
   "cell_type": "code",
   "execution_count": null,
   "metadata": {
    "colab": {
     "base_uri": "https://localhost:8080/"
    },
    "executionInfo": {
     "elapsed": 157,
     "status": "ok",
     "timestamp": 1711633807216,
     "user": {
      "displayName": "Lutz Hamel",
      "userId": "10287662568849688016"
     },
     "user_tz": 240
    },
    "id": "eOfMIuPhhzqD",
    "outputId": "a06860f6-dca0-4a34-c873-bfaef8179b32"
   },
   "outputs": [],
   "source": [
    "sql_string = \\\n",
    "'''\n",
    "SELECT\n",
    "    population as CityPopulation\n",
    "FROM\n",
    "    city\n",
    "ORDER\n",
    "    BY RAND(1)  -- randomize our city table\n",
    "LIMIT\n",
    "    1000        -- take the first 1000 rows\n",
    "'''"
   ]
  },
  {
   "cell_type": "code",
   "execution_count": null,
   "metadata": {},
   "outputs": [
    {
     "data": {
      "text/html": [
       "<div>\n",
       "<style scoped>\n",
       "    .dataframe tbody tr th:only-of-type {\n",
       "        vertical-align: middle;\n",
       "    }\n",
       "\n",
       "    .dataframe tbody tr th {\n",
       "        vertical-align: top;\n",
       "    }\n",
       "\n",
       "    .dataframe thead th {\n",
       "        text-align: right;\n",
       "    }\n",
       "</style>\n",
       "<table border=\"1\" class=\"dataframe\">\n",
       "  <thead>\n",
       "    <tr style=\"text-align: right;\">\n",
       "      <th></th>\n",
       "      <th>CityPopulation</th>\n",
       "    </tr>\n",
       "  </thead>\n",
       "  <tbody>\n",
       "    <tr>\n",
       "      <th>0</th>\n",
       "      <td>181804</td>\n",
       "    </tr>\n",
       "    <tr>\n",
       "      <th>1</th>\n",
       "      <td>247000</td>\n",
       "    </tr>\n",
       "    <tr>\n",
       "      <th>2</th>\n",
       "      <td>105380</td>\n",
       "    </tr>\n",
       "    <tr>\n",
       "      <th>3</th>\n",
       "      <td>117258</td>\n",
       "    </tr>\n",
       "    <tr>\n",
       "      <th>4</th>\n",
       "      <td>102985</td>\n",
       "    </tr>\n",
       "    <tr>\n",
       "      <th>...</th>\n",
       "      <td>...</td>\n",
       "    </tr>\n",
       "    <tr>\n",
       "      <th>995</th>\n",
       "      <td>106632</td>\n",
       "    </tr>\n",
       "    <tr>\n",
       "      <th>996</th>\n",
       "      <td>627500</td>\n",
       "    </tr>\n",
       "    <tr>\n",
       "      <th>997</th>\n",
       "      <td>621742</td>\n",
       "    </tr>\n",
       "    <tr>\n",
       "      <th>998</th>\n",
       "      <td>114733</td>\n",
       "    </tr>\n",
       "    <tr>\n",
       "      <th>999</th>\n",
       "      <td>98080</td>\n",
       "    </tr>\n",
       "  </tbody>\n",
       "</table>\n",
       "<p>1000 rows × 1 columns</p>\n",
       "</div>"
      ],
      "text/plain": [
       "     CityPopulation\n",
       "0            181804\n",
       "1            247000\n",
       "2            105380\n",
       "3            117258\n",
       "4            102985\n",
       "..              ...\n",
       "995          106632\n",
       "996          627500\n",
       "997          621742\n",
       "998          114733\n",
       "999           98080\n",
       "\n",
       "[1000 rows x 1 columns]"
      ]
     },
     "execution_count": 8,
     "metadata": {},
     "output_type": "execute_result"
    }
   ],
   "source": [
    "data = dsutils.execute_query(credentials, sql_string)\n",
    "data"
   ]
  },
  {
   "cell_type": "markdown",
   "metadata": {
    "id": "ty2xRBsi4GTx"
   },
   "source": [
    "**Question part (1)**: Let's try to answer the first question and figure out how many clusters there are."
   ]
  },
  {
   "cell_type": "code",
   "execution_count": 9,
   "metadata": {
    "colab": {
     "base_uri": "https://localhost:8080/",
     "height": 474
    },
    "executionInfo": {
     "elapsed": 577,
     "status": "ok",
     "timestamp": 1711633807791,
     "user": {
      "displayName": "Lutz Hamel",
      "userId": "10287662568849688016"
     },
     "user_tz": 240
    },
    "id": "8cWfJL2rff5Z",
    "outputId": "dc4ee36e-fc3d-41f6-a196-e0e806331a95"
   },
   "outputs": [
    {
     "data": {
      "image/png": "[encoded data removed]",
      "text/plain": [
       "<Figure size 640x480 with 1 Axes>"
      ]
     },
     "metadata": {},
     "output_type": "display_data"
    }
   ],
   "source": [
    "dsutils.plot_elbow(data)"
   ]
  },
  {
   "cell_type": "markdown",
   "metadata": {
    "id": "xF9xd10c4UFQ"
   },
   "source": [
    "**Answer**: It is clear from the plot that k=4 represents the optimal number of clusters.\n"
   ]
  },
  {
   "cell_type": "markdown",
   "metadata": {},
   "source": [
    "**Question part (2):** What is the average population of the cities in each cluster?"
   ]
  },
  {
   "cell_type": "code",
   "execution_count": null,
   "metadata": {
    "colab": {
     "base_uri": "https://localhost:8080/",
     "height": 175
    },
    "executionInfo": {
     "elapsed": 5,
     "status": "ok",
     "timestamp": 1711633807791,
     "user": {
      "displayName": "Lutz Hamel",
      "userId": "10287662568849688016"
     },
     "user_tz": 240
    },
    "id": "D3mA3DMAjIvF",
    "outputId": "e160131b-e999-489c-e045-3c4e3a9e2729"
   },
   "outputs": [
    {
     "data": {
      "text/html": [
       "<div>\n",
       "<style scoped>\n",
       "    .dataframe tbody tr th:only-of-type {\n",
       "        vertical-align: middle;\n",
       "    }\n",
       "\n",
       "    .dataframe tbody tr th {\n",
       "        vertical-align: top;\n",
       "    }\n",
       "\n",
       "    .dataframe thead th {\n",
       "        text-align: right;\n",
       "    }\n",
       "</style>\n",
       "<table border=\"1\" class=\"dataframe\">\n",
       "  <thead>\n",
       "    <tr style=\"text-align: right;\">\n",
       "      <th></th>\n",
       "      <th>CityPopulation</th>\n",
       "    </tr>\n",
       "  </thead>\n",
       "  <tbody>\n",
       "    <tr>\n",
       "      <th>0</th>\n",
       "      <td>9625442.0</td>\n",
       "    </tr>\n",
       "    <tr>\n",
       "      <th>1</th>\n",
       "      <td>5328137.0</td>\n",
       "    </tr>\n",
       "    <tr>\n",
       "      <th>2</th>\n",
       "      <td>1572865.0</td>\n",
       "    </tr>\n",
       "    <tr>\n",
       "      <th>3</th>\n",
       "      <td>223839.0</td>\n",
       "    </tr>\n",
       "  </tbody>\n",
       "</table>\n",
       "</div>"
      ],
      "text/plain": [
       "   CityPopulation\n",
       "0       9625442.0\n",
       "1       5328137.0\n",
       "2       1572865.0\n",
       "3        223839.0"
      ]
     },
     "execution_count": 10,
     "metadata": {},
     "output_type": "execute_result"
    }
   ],
   "source": [
    "# build a cluster model\n",
    "model = cluster\\\n",
    "   .KMeans(n_clusters=4, random_state=1) \\\n",
    "   .fit(data)\n"
   ]
  },
  {
   "cell_type": "code",
   "execution_count": null,
   "metadata": {},
   "outputs": [],
   "source": [
    "# display the centers\n",
    "# create a nice table of the cluster centroids\n",
    "centers = pandas.DataFrame(model.cluster_centers_, columns=data.columns)\\\n",
    "                .sort_values(by='CityPopulation', ascending=False)\\\n",
    "                .apply(lambda x:round(x))\\\n",
    "                .reset_index(inplace=False)\\\n",
    "                .drop(columns=['index'])\n",
    "centers"
   ]
  },
  {
   "cell_type": "markdown",
   "metadata": {
    "id": "uDWKEEEr5YPp"
   },
   "source": [
    "\n",
    "**Answer**:\n",
    "The average population of cities in each cluster is as follows,\n",
    "\n",
    "* Cluster 0  represents mega-cities with an average population of 9mil.\n",
    "* Cluster 1 represents smaller metropolitan areas with an average population of 5mil.\n",
    "* Cluster 2 represents cities with an average population of about 1.5mil.\n",
    "* Cluster 3 represents smaller cities with an average population of about 200,000.\n",
    "\n"
   ]
  }
 ],
 "metadata": {
  "colab": {
   "provenance": []
  },
  "kernelspec": {
   "display_name": "Python 3",
   "language": "python",
   "name": "python3"
  },
  "language_info": {
   "codemirror_mode": {
    "name": "ipython",
    "version": 3
   },
   "file_extension": ".py",
   "mimetype": "text/x-python",
   "name": "python",
   "nbconvert_exporter": "python",
   "pygments_lexer": "ipython3",
   "version": "3.13.1"
  }
 },
 "nbformat": 4,
 "nbformat_minor": 0
}
