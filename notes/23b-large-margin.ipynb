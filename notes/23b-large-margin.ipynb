{
 "cells": [
  {
   "cell_type": "code",
   "execution_count": null,
   "metadata": {
    "colab": {
     "base_uri": "https://localhost:8080/"
    },
    "executionInfo": {
     "elapsed": 11763,
     "status": "ok",
     "timestamp": 1713544969180,
     "user": {
      "displayName": "Lutz Hamel",
      "userId": "10287662568849688016"
     },
     "user_tz": 240
    },
    "id": "oS8brvhDnkew",
    "outputId": "45dadd4b-1b0d-4177-89fe-c505d6ad82bb"
   },
   "outputs": [],
   "source": [
    "###### Config #####\n",
    "import sys, os, platform\n",
    "if os.path.isdir(\"ds-assets\"):\n",
    "  !cd ds-assets && git pull\n",
    "else:\n",
    "  !git clone https://github.com/lutzhamel/ds-assets.git\n",
    "colab = True if 'google.colab' in os.sys.modules else False\n",
    "system = platform.system() # \"Windows\", \"Linux\", \"Darwin\"\n",
    "home = \"ds-assets/assets/\"\n",
    "sys.path.append(home)"
   ]
  },
  {
   "cell_type": "code",
   "execution_count": null,
   "metadata": {
    "executionInfo": {
     "elapsed": 6240,
     "status": "ok",
     "timestamp": 1713544975417,
     "user": {
      "displayName": "Lutz Hamel",
      "userId": "10287662568849688016"
     },
     "user_tz": 240
    },
    "id": "JvFN5vR0knX6"
   },
   "outputs": [],
   "source": [
    "import pandas as pd\n",
    "import dsutils\n",
    "import matplotlib.pyplot as plt\n",
    "import seaborn as sns; sns.set_theme()\n",
    "from sklearn.datasets import make_blobs\n",
    "from sklearn.datasets import make_circles\n",
    "from sklearn.inspection import DecisionBoundaryDisplay\n",
    "from sklearn.linear_model import Perceptron\n",
    "from sklearn.svm import SVC\n",
    "from sklearn.model_selection import train_test_split\n",
    "from sklearn.model_selection import GridSearchCV\n"
   ]
  },
  {
   "cell_type": "code",
   "execution_count": null,
   "metadata": {
    "executionInfo": {
     "elapsed": 5,
     "status": "ok",
     "timestamp": 1713544975417,
     "user": {
      "displayName": "Lutz Hamel",
      "userId": "10287662568849688016"
     },
     "user_tz": 240
    },
    "id": "koZMmqthw98_"
   },
   "outputs": [],
   "source": [
    "# aux function\n",
    "def plot_svm_surface(clf,X,surface_only=False,support_only=False):\n",
    "  ax = plt.gca()\n",
    "  if not support_only:\n",
    "    DecisionBoundaryDisplay.from_estimator(\n",
    "        clf,\n",
    "        X,\n",
    "        plot_method=\"contour\",\n",
    "        colors=\"k\",\n",
    "        levels= [0] if surface_only else [-1, 0, 1],\n",
    "        alpha=0.5,\n",
    "        linestyles= [\"-\"] if surface_only else [\"--\", \"-\", \"--\"],\n",
    "        ax=ax,\n",
    "    )\n",
    "  # plot support vectors\n",
    "  if (not surface_only) or support_only:\n",
    "    ax.scatter(\n",
    "        clf.support_vectors_[:, 0],\n",
    "        clf.support_vectors_[:, 1],\n",
    "        s=100,\n",
    "        linewidth=1,\n",
    "        facecolors=\"none\",\n",
    "        edgecolors=\"k\",\n",
    "    )"
   ]
  },
  {
   "cell_type": "code",
   "execution_count": null,
   "metadata": {
    "executionInfo": {
     "elapsed": 4,
     "status": "ok",
     "timestamp": 1713544975417,
     "user": {
      "displayName": "Lutz Hamel",
      "userId": "10287662568849688016"
     },
     "user_tz": 240
    },
    "id": "OlU8l9a40dPC"
   },
   "outputs": [],
   "source": [
    "# aux function\n",
    "def plot_perceptron_surface(clf, X):\n",
    "  ax = plt.gca()\n",
    "  DecisionBoundaryDisplay.from_estimator(\n",
    "      clf,\n",
    "      X,\n",
    "      plot_method=\"contour\",\n",
    "      levels = [0],\n",
    "      colors=\"g\",\n",
    "      alpha=0.5,\n",
    "      linestyles= '-',\n",
    "      ax=ax,\n",
    "  )"
   ]
  },
  {
   "cell_type": "code",
   "execution_count": null,
   "metadata": {},
   "outputs": [],
   "source": [
    "# example data\n",
    "def make_data():\n",
    "   X, y = make_blobs(n_samples=50, centers=2,\n",
    "                  random_state=0, cluster_std=0.60)\n",
    "   return X, y\n"
   ]
  },
  {
   "cell_type": "code",
   "execution_count": null,
   "metadata": {},
   "outputs": [],
   "source": [
    "# plot example data\n",
    "def plot_data(X, y):\n",
    "  plt.scatter(X[:, 0], X[:, 1], c=y, cmap='autumn')\n",
    "  plt.xlabel('Feature 1')\n",
    "  plt.ylabel('Feature 2')\n",
    "  plt.title('Example Data')\n"
   ]
  },
  {
   "cell_type": "markdown",
   "metadata": {
    "id": "LGC4ewNin8zg"
   },
   "source": [
    "# Large Margin Classifiers"
   ]
  },
  {
   "cell_type": "markdown",
   "metadata": {
    "id": "zqqP39BYVGbT"
   },
   "source": [
    "Large margin classifiers are a **refinement of perceptron learning** in that they construct **optimal decision surfaces** that can discriminate between two classes.\n"
   ]
  },
  {
   "cell_type": "markdown",
   "metadata": {
    "id": "7HT3SbgyoJxO"
   },
   "source": [
    "Recall that the perceptron training algorithm keeps modifying the weights and the bias term of the perceptron architecture until a decision surface is found that separates the two classes,\n",
    "\n",
    "<center>\n",
    "<img src=\"https://raw.githubusercontent.com/lutzhamel/ds-assets/main/assets/perceptron-train.jpg\"  height=\"250\" width=\"280\">\n",
    "</center>\n"
   ]
  },
  {
   "cell_type": "markdown",
   "metadata": {
    "id": "WdGrpV57plDV"
   },
   "source": [
    "The problem with the learning heuristic for perceptrons is that it can give rise to **suboptimal decision surfaces**.  Perhaps something like this,\n",
    "\n",
    "<center>\n",
    "<img \n",
    "src=\"https://gamedevacademy.org/wp-content/uploads/2017/10/SVM-Perceptron-Decision-Boundary.png.webp\"\n",
    "width=\"350\"\n",
    "height=\"300\">\n",
    "</center>"
   ]
  },
  {
   "cell_type": "markdown",
   "metadata": {
    "id": "hRcBMCh8p3qb"
   },
   "source": [
    "We call this a **suboptimal decision surface**  because it has a **higher likelihood to misclassify points** bacause of the proximity to one of the classes.\n",
    "\n",
    "As we will see large margin classifiers will construct decision surfaces that minimize misclassification due to proximity -- that is, large margin classifiers try to find decision surfaces that sit in the **center between the two classes** therefore inducing an **equal likelihood to misclassify points from either class**.  \n",
    "\n",
    "Here is an example of an optimal decision surface,\n",
    "\n",
    "<center>\n",
    "<img \n",
    "src=\"https://gamedevacademy.org/wp-content/uploads/2017/10/SVM-Decision-Boundary.png.webp\"\n",
    "width=\"350\"\n",
    "height=\"300\">\n",
    "</center>"
   ]
  },
  {
   "cell_type": "markdown",
   "metadata": {},
   "source": [
    "The area around the dotted line is called the **margin**."
   ]
  },
  {
   "cell_type": "markdown",
   "metadata": {
    "id": "3hwhKsHIuIx8"
   },
   "source": [
    "**Observation**: Decision surface with large margins have a lower likelihood of misclassification because the class distributions are further away from the decision surface."
   ]
  },
  {
   "cell_type": "markdown",
   "metadata": {},
   "source": [
    "[source](https://gamedevacademy.org/classification-with-support-vector-machines/)"
   ]
  },
  {
   "cell_type": "markdown",
   "metadata": {
    "id": "RU7C0_QRvjA9"
   },
   "source": [
    "# Support Vector Machines"
   ]
  },
  {
   "cell_type": "markdown",
   "metadata": {
    "id": "QwvUICThseW-"
   },
   "source": [
    "Support vector machines (SVMs) compute the maximum (optimal) margin between two classes and then place the decision surface at the center of the margin."
   ]
  },
  {
   "cell_type": "code",
   "execution_count": null,
   "metadata": {},
   "outputs": [],
   "source": [
    "X,y = make_data()"
   ]
  },
  {
   "cell_type": "code",
   "execution_count": null,
   "metadata": {
    "colab": {
     "base_uri": "https://localhost:8080/",
     "height": 434
    },
    "executionInfo": {
     "elapsed": 1299,
     "status": "ok",
     "timestamp": 1713544979011,
     "user": {
      "displayName": "Lutz Hamel",
      "userId": "10287662568849688016"
     },
     "user_tz": 240
    },
    "id": "LlPVqZvxxJk8",
    "outputId": "381e818a-264d-4e17-d80b-b7275f4bd35d"
   },
   "outputs": [],
   "source": [
    "svm_model = SVC(kernel='linear').fit(X, y)\n"
   ]
  },
  {
   "cell_type": "code",
   "execution_count": null,
   "metadata": {},
   "outputs": [],
   "source": [
    "plot_data(X,y)\n",
    "plot_svm_surface(svm_model, X);"
   ]
  },
  {
   "cell_type": "markdown",
   "metadata": {
    "id": "lYzksvoEsugN"
   },
   "source": [
    "As you can see from the figure the margin is limited by points from the two classes.  These limiting points are called **support vectors**.  One way to think about these points is that they **support** the position of the optimal decision surface essentially act as **constraints** on the width and position of the optimal decision surface.\n",
    "\n",
    "The fact we are using a **linear kernel** in our example means that we are constructing the margin and the decision surface in training data space.  If we use kernels other than the linear kernels we map our training data into  other, extremely high-dimensional spaces and build our SVMs there.  This gives rise to non-linear decision surfaces when we map the decision surface from the high-dimensional space to training data space."
   ]
  },
  {
   "cell_type": "markdown",
   "metadata": {
    "id": "Jgn9Dhu4vqG8"
   },
   "source": [
    "## Comparing SVMs and Perceptrons"
   ]
  },
  {
   "cell_type": "markdown",
   "metadata": {
    "id": "HdpcQ1rC6FvE"
   },
   "source": [
    "We can compare the two algorithms side-by-side."
   ]
  },
  {
   "cell_type": "code",
   "execution_count": null,
   "metadata": {
    "colab": {
     "base_uri": "https://localhost:8080/",
     "height": 75
    },
    "executionInfo": {
     "elapsed": 5,
     "status": "ok",
     "timestamp": 1713544979011,
     "user": {
      "displayName": "Lutz Hamel",
      "userId": "10287662568849688016"
     },
     "user_tz": 240
    },
    "id": "LiVwJ0Wy0TI4",
    "outputId": "4b48c4a0-63b2-4eb1-8c99-05cf0288dff9"
   },
   "outputs": [],
   "source": [
    "pmodel = Perceptron().fit(X,y)"
   ]
  },
  {
   "cell_type": "markdown",
   "metadata": {
    "id": "2b4aviaW6PfR"
   },
   "source": [
    "Plotting the two decision surfaces."
   ]
  },
  {
   "cell_type": "code",
   "execution_count": null,
   "metadata": {
    "colab": {
     "base_uri": "https://localhost:8080/",
     "height": 434
    },
    "executionInfo": {
     "elapsed": 1573,
     "status": "ok",
     "timestamp": 1713544980581,
     "user": {
      "displayName": "Lutz Hamel",
      "userId": "10287662568849688016"
     },
     "user_tz": 240
    },
    "id": "rR4uGNHh5UOF",
    "outputId": "ca41e3f4-b386-407e-fe79-1c5c5a1e7353"
   },
   "outputs": [],
   "source": [
    "plot_data(X,y)\n",
    "plot_svm_surface(svm_model, X, surface_only=False);\n",
    "plot_perceptron_surface(pmodel,X)"
   ]
  },
  {
   "cell_type": "markdown",
   "metadata": {
    "id": "IEd7p3e06ThX"
   },
   "source": [
    "The decision surface for the SVM is given in black and the decision surface for the perceptron is given in green.  We can clearly see that the decision surface for the SVM is what we consider optimal."
   ]
  },
  {
   "cell_type": "markdown",
   "metadata": {
    "id": "-UFapw2q71CG"
   },
   "source": [
    "## Dealing with Noisy Data - Soft Margins"
   ]
  },
  {
   "cell_type": "markdown",
   "metadata": {
    "id": "6JKqf2YbMRof"
   },
   "source": [
    "Let regenerate our original data..."
   ]
  },
  {
   "cell_type": "code",
   "execution_count": null,
   "metadata": {
    "executionInfo": {
     "elapsed": 5,
     "status": "ok",
     "timestamp": 1713544980581,
     "user": {
      "displayName": "Lutz Hamel",
      "userId": "10287662568849688016"
     },
     "user_tz": 240
    },
    "id": "Dx2G1YH98E-3"
   },
   "outputs": [],
   "source": [
    "X, y = make_data()"
   ]
  },
  {
   "cell_type": "markdown",
   "metadata": {
    "id": "ekhGimVtMVy3"
   },
   "source": [
    "but we will introduce a noisy point..."
   ]
  },
  {
   "cell_type": "code",
   "execution_count": null,
   "metadata": {
    "executionInfo": {
     "elapsed": 5,
     "status": "ok",
     "timestamp": 1713544980881,
     "user": {
      "displayName": "Lutz Hamel",
      "userId": "10287662568849688016"
     },
     "user_tz": 240
    },
    "id": "f5cCklyO8VF7"
   },
   "outputs": [],
   "source": [
    "y[-5] = 0 # introducing noise by mapping a 1 class point to the 0 class"
   ]
  },
  {
   "cell_type": "code",
   "execution_count": null,
   "metadata": {
    "colab": {
     "base_uri": "https://localhost:8080/",
     "height": 452
    },
    "executionInfo": {
     "elapsed": 2031,
     "status": "ok",
     "timestamp": 1713544982908,
     "user": {
      "displayName": "Lutz Hamel",
      "userId": "10287662568849688016"
     },
     "user_tz": 240
    },
    "id": "BY0O_FY_9Bg1",
    "outputId": "e8c07b2e-ac8d-42c5-debb-ac0a0ab4074a"
   },
   "outputs": [],
   "source": [
    "plot_data(X,y)"
   ]
  },
  {
   "cell_type": "markdown",
   "metadata": {
    "id": "o-gfrs6EMazs"
   },
   "source": [
    "Notice, there is one red point in the \"wrong\" class distribution.  Now let's fit an SVM with a hard margin.  Note that\n",
    "\n",
    "* margin_hardness = 1 is considered a soft margin (more on that further down)\n",
    "* margin_hardness > 100 is considered a hard margin"
   ]
  },
  {
   "cell_type": "code",
   "execution_count": null,
   "metadata": {
    "executionInfo": {
     "elapsed": 3,
     "status": "ok",
     "timestamp": 1713544982908,
     "user": {
      "displayName": "Lutz Hamel",
      "userId": "10287662568849688016"
     },
     "user_tz": 240
    },
    "id": "7C39jCbXMuc3"
   },
   "outputs": [],
   "source": [
    "margin_hardness = 1000  # very hard margin"
   ]
  },
  {
   "cell_type": "markdown",
   "metadata": {
    "id": "I08bK1snMiZ7"
   },
   "source": [
    "The parameter C controls the margin, here we assign it a hardness value of 1,000."
   ]
  },
  {
   "cell_type": "code",
   "execution_count": null,
   "metadata": {
    "colab": {
     "base_uri": "https://localhost:8080/",
     "height": 434
    },
    "executionInfo": {
     "elapsed": 1363,
     "status": "ok",
     "timestamp": 1713544984269,
     "user": {
      "displayName": "Lutz Hamel",
      "userId": "10287662568849688016"
     },
     "user_tz": 240
    },
    "id": "BqyOFj6_9ZZg",
    "outputId": "e0722d68-0f82-49d4-ee6f-dea6e2a763b3"
   },
   "outputs": [],
   "source": [
    "model = SVC(kernel='linear', C=margin_hardness).fit(X, y)\n",
    "\n",
    "plot_data(X,y)\n",
    "plot_svm_surface(model, X);"
   ]
  },
  {
   "cell_type": "markdown",
   "metadata": {
    "id": "IEmSawUNNFFn"
   },
   "source": [
    "Notice that because of that one noisy point we obtain a suboptimal decision surface; a surface very close to the yellow class meaning that has a high likelihood to misclassify yellow points.\n",
    "\n",
    "Now, let's set the margin hardness to 1 meaning that the margin construction is \"soft\" and and can ignore noisy points."
   ]
  },
  {
   "cell_type": "code",
   "execution_count": null,
   "metadata": {
    "executionInfo": {
     "elapsed": 4,
     "status": "ok",
     "timestamp": 1713544984270,
     "user": {
      "displayName": "Lutz Hamel",
      "userId": "10287662568849688016"
     },
     "user_tz": 240
    },
    "id": "uYLYF1WrNtXY"
   },
   "outputs": [],
   "source": [
    "margin_hardness = 1"
   ]
  },
  {
   "cell_type": "markdown",
   "metadata": {
    "id": "G6nu0y_oNxUv"
   },
   "source": [
    "Again, we set the C parameter to our margin hardness for fitting,"
   ]
  },
  {
   "cell_type": "code",
   "execution_count": null,
   "metadata": {
    "colab": {
     "base_uri": "https://localhost:8080/",
     "height": 434
    },
    "executionInfo": {
     "elapsed": 1101,
     "status": "ok",
     "timestamp": 1713544985368,
     "user": {
      "displayName": "Lutz Hamel",
      "userId": "10287662568849688016"
     },
     "user_tz": 240
    },
    "id": "4-RAVYrVN5uP",
    "outputId": "58098c1a-ac18-4595-9d68-a1e3306c18b5"
   },
   "outputs": [],
   "source": [
    "model = SVC(kernel='linear', C=margin_hardness).fit(X, y)\n",
    "\n",
    "plot_data(X,y)\n",
    "plot_svm_surface(model, X);"
   ]
  },
  {
   "cell_type": "markdown",
   "metadata": {
    "id": "0uw5jHanOMWy"
   },
   "source": [
    "Notice that we regained a margin that is optimal or close to optimal.  Also notice that the noisy point is on the wrong side of the decision surface.  In essence, the margin construction ingnored the noisy point in favor of a more optimal decision surface.  Exactly the kind of result we would like to see in noisy data.\n",
    "\n",
    "Note that the default for SVMs is `C=1`, that is, by default the construction uses soft margins."
   ]
  },
  {
   "cell_type": "markdown",
   "metadata": {
    "id": "OPS_SM7tPF98"
   },
   "source": [
    "## Nonlinear Data"
   ]
  },
  {
   "cell_type": "markdown",
   "metadata": {
    "id": "XkoRnss0PJ5Y"
   },
   "source": [
    "Not all data is separable by a linear decision surface.  For example, in the extreme case where one class is embedded in another class, like so,"
   ]
  },
  {
   "cell_type": "code",
   "execution_count": null,
   "metadata": {
    "executionInfo": {
     "elapsed": 2,
     "status": "ok",
     "timestamp": 1713544985368,
     "user": {
      "displayName": "Lutz Hamel",
      "userId": "10287662568849688016"
     },
     "user_tz": 240
    },
    "id": "FxQGMU5DYlSB"
   },
   "outputs": [],
   "source": [
    "X, y = make_circles(100, factor=.1, noise=.1)\n",
    "\n",
    "plot_data(X,y)"
   ]
  },
  {
   "cell_type": "markdown",
   "metadata": {
    "id": "4LUQWX8BY9z1"
   },
   "source": [
    "Here we can use **kernels** to model the non-linearities of the data.\n",
    "\n",
    "Let's use the **radial basis function (rbf)** kernel.  We will also use a **hard margin** because we know that the two classes are well separated.\n",
    "\n"
   ]
  },
  {
   "cell_type": "code",
   "execution_count": null,
   "metadata": {
    "colab": {
     "base_uri": "https://localhost:8080/",
     "height": 75
    },
    "executionInfo": {
     "elapsed": 4,
     "status": "ok",
     "timestamp": 1713544986338,
     "user": {
      "displayName": "Lutz Hamel",
      "userId": "10287662568849688016"
     },
     "user_tz": 240
    },
    "id": "RdD_gwyeZuDe",
    "outputId": "fd64870c-2a49-4cc5-a108-072c20d7bf42"
   },
   "outputs": [],
   "source": [
    "model = SVC(kernel='rbf', C=1000).fit(X, y)"
   ]
  },
  {
   "cell_type": "markdown",
   "metadata": {
    "id": "urtp5DnVaTQ1"
   },
   "source": [
    "Let's visualize this decision surface in our training data space."
   ]
  },
  {
   "cell_type": "code",
   "execution_count": null,
   "metadata": {
    "colab": {
     "base_uri": "https://localhost:8080/",
     "height": 434
    },
    "executionInfo": {
     "elapsed": 1240,
     "status": "ok",
     "timestamp": 1713544987574,
     "user": {
      "displayName": "Lutz Hamel",
      "userId": "10287662568849688016"
     },
     "user_tz": 240
    },
    "id": "QBkok5gVaa_2",
    "outputId": "c349cd11-c9fa-4c5a-c639-0b34ac37fa89"
   },
   "outputs": [],
   "source": [
    "plot_data(X,y)\n",
    "plot_svm_surface(model,X)\n"
   ]
  },
  {
   "cell_type": "markdown",
   "metadata": {
    "id": "9CHf40a1b-1R"
   },
   "source": [
    "We can see the non-linear decision surface with its support vectors"
   ]
  },
  {
   "cell_type": "markdown",
   "metadata": {
    "id": "90qll5vrcoYF"
   },
   "source": [
    "# Example: Text Classification\n",
    "\n",
    "Because the SVM algorithm does not deteriorate with high dimensional data we can try it on our text classification problem."
   ]
  },
  {
   "cell_type": "code",
   "execution_count": null,
   "metadata": {
    "colab": {
     "base_uri": "https://localhost:8080/",
     "height": 363
    },
    "executionInfo": {
     "elapsed": 6,
     "status": "ok",
     "timestamp": 1713544988858,
     "user": {
      "displayName": "Lutz Hamel",
      "userId": "10287662568849688016"
     },
     "user_tz": 240
    },
    "id": "Vv8m0ZBXDetq",
    "outputId": "a49e5b10-1e5a-4283-afd3-0fbc5afbe6bc"
   },
   "outputs": [],
   "source": [
    "# get the newsgroup database\n",
    "newsgroups = pd.read_csv(home+\"newsgroups-noheaders.csv\")\n",
    "newsgroups.head(n=10)"
   ]
  },
  {
   "cell_type": "code",
   "execution_count": null,
   "metadata": {
    "colab": {
     "base_uri": "https://localhost:8080/",
     "height": 273
    },
    "executionInfo": {
     "elapsed": 9669,
     "status": "ok",
     "timestamp": 1713544998523,
     "user": {
      "displayName": "Lutz Hamel",
      "userId": "10287662568849688016"
     },
     "user_tz": 240
    },
    "id": "W90EhJ8qDr_U",
    "outputId": "39f8c0a5-3187-43dc-9a1c-ec57d7150d33"
   },
   "outputs": [],
   "source": [
    "docterm = dsutils.docterm_matrix(newsgroups['text'],\n",
    "                                 stop_words='english',\n",
    "                                 min_df=2,\n",
    "                                 stem=True,\n",
    "                                 token_pattern=\"[a-zA-Z]+\")\n",
    "docterm"
   ]
  },
  {
   "cell_type": "code",
   "execution_count": null,
   "metadata": {
    "executionInfo": {
     "elapsed": 20,
     "status": "ok",
     "timestamp": 1713544998523,
     "user": {
      "displayName": "Lutz Hamel",
      "userId": "10287662568849688016"
     },
     "user_tz": 240
    },
    "id": "oXz82TTHPtLS"
   },
   "outputs": [],
   "source": [
    "# set up train and test sets\n",
    "X_train, X_test, y_train, y_test = \\\n",
    "  train_test_split(docterm,   # as X\n",
    "                   newsgroups['label'],  # as y\n",
    "                   train_size=0.8,\n",
    "                   test_size=0.2,\n",
    "                   random_state=2)"
   ]
  },
  {
   "cell_type": "code",
   "execution_count": null,
   "metadata": {
    "colab": {
     "base_uri": "https://localhost:8080/"
    },
    "executionInfo": {
     "elapsed": 86222,
     "status": "ok",
     "timestamp": 1713545084726,
     "user": {
      "displayName": "Lutz Hamel",
      "userId": "10287662568849688016"
     },
     "user_tz": 240
    },
    "id": "u9QfQssvP6m5",
    "outputId": "d1bda4ae-62fd-452d-f79d-c4acb3f8d9a7"
   },
   "outputs": [],
   "source": [
    "# model object\n",
    "model = SVC()"
   ]
  },
  {
   "cell_type": "code",
   "execution_count": null,
   "metadata": {},
   "outputs": [],
   "source": [
    "# grid search\n",
    "param_grid = {\n",
    "      'kernel':['linear','rbf'],\n",
    "      'C': [1, 10, 100, 1000],\n",
    "      'gamma': [0.0001, 0.001, 0.01]\n",
    "}\n",
    "grid = GridSearchCV(model, param_grid).fit(X_train, y_train)\n",
    "print(\"Grid Search: best parameters: {}\".format(grid.best_params_))\n",
    "best_model = grid.best_estimator_"
   ]
  },
  {
   "cell_type": "code",
   "execution_count": null,
   "metadata": {
    "colab": {
     "base_uri": "https://localhost:8080/"
    },
    "executionInfo": {
     "elapsed": 954,
     "status": "ok",
     "timestamp": 1713545085642,
     "user": {
      "displayName": "Lutz Hamel",
      "userId": "10287662568849688016"
     },
     "user_tz": 240
    },
    "id": "DS3_GfdLQ0ZI",
    "outputId": "b6d35356-a051-4318-9ef0-02f1ade2323b"
   },
   "outputs": [],
   "source": [
    "dsutils.acc_score(best_model, X_test, y_test, as_string=True)"
   ]
  },
  {
   "cell_type": "code",
   "execution_count": null,
   "metadata": {
    "colab": {
     "base_uri": "https://localhost:8080/",
     "height": 112
    },
    "executionInfo": {
     "elapsed": 14,
     "status": "ok",
     "timestamp": 1713545085642,
     "user": {
      "displayName": "Lutz Hamel",
      "userId": "10287662568849688016"
     },
     "user_tz": 240
    },
    "id": "45tqIEJHQ1lK",
    "outputId": "ca69cb3b-a3b6-4fc9-ea20-6bc7c4a5b927"
   },
   "outputs": [],
   "source": [
    "dsutils.confusion_matrix(best_model, X_test, y_test)"
   ]
  },
  {
   "cell_type": "markdown",
   "metadata": {
    "id": "lcQwkdnkiLpM"
   },
   "source": [
    "Putting this into context with all the other classifiers we tried on this dataset:\n",
    "\n",
    "**decision tree**: Accuracy: 0.74 (0.68,0.80)\n",
    "\n",
    "**SVM**: Accuracy: 0.87 (0.82,0.92)\n",
    "\n",
    "**gradient boosting**: Accuracy: 0.91 (0.87,0.95)\n",
    "\n",
    "**random forest**: Accuracy: 0.92 (0.89, 0.96)\n",
    "\n",
    "**naive bayes**: Accuracy: 0.96 (0.93,0.98)\n"
   ]
  },
  {
   "cell_type": "markdown",
   "metadata": {
    "id": "YElq6teKigzY"
   },
   "source": [
    "# Example: Handwritten Digit Classification\n",
    "\n",
    "Our handwritten digit information lives in 64 dimensional space.  Again, very suitable for the SVM algorithm."
   ]
  },
  {
   "cell_type": "code",
   "execution_count": null,
   "metadata": {
    "colab": {
     "base_uri": "https://localhost:8080/"
    },
    "executionInfo": {
     "elapsed": 7842,
     "status": "ok",
     "timestamp": 1713545093475,
     "user": {
      "displayName": "Lutz Hamel",
      "userId": "10287662568849688016"
     },
     "user_tz": 240
    },
    "id": "me9Uoh1sRcnP",
    "outputId": "39f2ddb5-3281-4c4b-e2b1-ddd8c8a72a34"
   },
   "outputs": [],
   "source": [
    "# fetch dataset\n",
    "digits = pd.read_csv(home+'optdigits.csv', header=None)\n",
    "digits.columns = ['a'+str(i) for i in range(1,65)] + ['digit']\n",
    "digits"
   ]
  },
  {
   "cell_type": "code",
   "execution_count": null,
   "metadata": {},
   "outputs": [],
   "source": [
    "# data\n",
    "X = digits.drop(columns=['digit'])\n",
    "y = digits[['digit']]"
   ]
  },
  {
   "cell_type": "markdown",
   "metadata": {
    "id": "nc_r-2noQcZe"
   },
   "source": [
    "Note that this is a 10-way classification problem.  A single SVM can only discriminate two classes. The sklearn SVM implementation deals with it by building one SVM for each class (digit in this case) and then uses an aggregation scheme to come up with a single classification."
   ]
  },
  {
   "cell_type": "code",
   "execution_count": null,
   "metadata": {
    "executionInfo": {
     "elapsed": 3,
     "status": "ok",
     "timestamp": 1713545193790,
     "user": {
      "displayName": "Lutz Hamel",
      "userId": "10287662568849688016"
     },
     "user_tz": 240
    },
    "id": "bVWw0RV0Rx1C"
   },
   "outputs": [],
   "source": [
    "# setting up training/testing data\n",
    "X_train, X_test, y_train, y_test = train_test_split(\n",
    "    X,\n",
    "    y['digit'], # we want a series as target\n",
    "    train_size=0.8,\n",
    "    test_size=0.2,\n",
    "    random_state=1\n",
    ")"
   ]
  },
  {
   "cell_type": "code",
   "execution_count": null,
   "metadata": {
    "colab": {
     "base_uri": "https://localhost:8080/"
    },
    "executionInfo": {
     "elapsed": 53054,
     "status": "ok",
     "timestamp": 1713545246842,
     "user": {
      "displayName": "Lutz Hamel",
      "userId": "10287662568849688016"
     },
     "user_tz": 240
    },
    "id": "Dm3jZpYljEFX",
    "outputId": "82a75e2f-b2c1-46ee-d09e-33c81037f4c0"
   },
   "outputs": [],
   "source": [
    "# model object\n",
    "model = SVC()\n"
   ]
  },
  {
   "cell_type": "code",
   "execution_count": null,
   "metadata": {},
   "outputs": [],
   "source": [
    "# grid search\n",
    "param_grid = {\n",
    "      'kernel':['linear','rbf'],\n",
    "      'C': [1, 10, 100, 1000],\n",
    "      'gamma': [0.0001, 0.001, 0.01, 0.1]\n",
    "}\n",
    "grid = GridSearchCV(model, param_grid, cv=3).fit(X_train, y_train)\n",
    "print(\"Grid Search: best parameters: {}\".format(grid.best_params_))\n",
    "best_model = grid.best_estimator_"
   ]
  },
  {
   "cell_type": "code",
   "execution_count": null,
   "metadata": {
    "colab": {
     "base_uri": "https://localhost:8080/"
    },
    "executionInfo": {
     "elapsed": 225,
     "status": "ok",
     "timestamp": 1713545247049,
     "user": {
      "displayName": "Lutz Hamel",
      "userId": "10287662568849688016"
     },
     "user_tz": 240
    },
    "id": "1oa9sYuVjEFm",
    "outputId": "7607968b-e53f-4679-93e9-88b4e0b8a6fd"
   },
   "outputs": [],
   "source": [
    "dsutils.acc_score(best_model, X_test, y_test, as_string=True)"
   ]
  },
  {
   "cell_type": "code",
   "execution_count": null,
   "metadata": {
    "colab": {
     "base_uri": "https://localhost:8080/",
     "height": 363
    },
    "executionInfo": {
     "elapsed": 4,
     "status": "ok",
     "timestamp": 1713545247049,
     "user": {
      "displayName": "Lutz Hamel",
      "userId": "10287662568849688016"
     },
     "user_tz": 240
    },
    "id": "bSjTLNpZTIeF",
    "outputId": "5c84226e-a4b2-42e7-f7c0-98fbb30751b5"
   },
   "outputs": [],
   "source": [
    "dsutils.confusion_matrix(best_model, X_test, y_test)"
   ]
  },
  {
   "cell_type": "markdown",
   "metadata": {
    "id": "Eu6qGJPynTNI"
   },
   "source": [
    "Putting the SVM results in the context of our previous results,\n",
    "\n",
    "**decision tree**: Accuracy: 0.92 (0.90, 0.93)\n",
    "\n",
    "**random forest**: Accuracy: 0.97 (0.96, 0.98)\n",
    "\n",
    "**gradient boosting**: Accuracy: 0.99 (0.98, 0.99)\n",
    "\n",
    "**SVM**: Accuracy: 0.99 (0.99, 1.00)\n",
    "\n"
   ]
  },
  {
   "cell_type": "markdown",
   "metadata": {},
   "source": [
    "# Reading\n",
    "\n",
    "[Support Vector Machines](https://jakevdp.github.io/PythonDataScienceHandbook/05.07-support-vector-machines.html)"
   ]
  }
 ],
 "metadata": {
  "colab": {
   "authorship_tag": "ABX9TyPGrqcRdBimKhbbSIFVCvA8",
   "provenance": [],
   "toc_visible": true
  },
  "kernelspec": {
   "display_name": "Python 3",
   "name": "python3"
  },
  "language_info": {
   "codemirror_mode": {
    "name": "ipython",
    "version": 3
   },
   "file_extension": ".py",
   "mimetype": "text/x-python",
   "name": "python",
   "nbconvert_exporter": "python",
   "pygments_lexer": "ipython3",
   "version": "3.13.1"
  }
 },
 "nbformat": 4,
 "nbformat_minor": 0
}
