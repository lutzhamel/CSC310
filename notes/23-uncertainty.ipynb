{
 "cells": [
  {
   "cell_type": "code",
   "execution_count": 33,
   "metadata": {
    "colab": {
     "base_uri": "https://localhost:8080/"
    },
    "executionInfo": {
     "elapsed": 11950,
     "status": "ok",
     "timestamp": 1712665531630,
     "user": {
      "displayName": "Lutz Hamel",
      "userId": "10287662568849688016"
     },
     "user_tz": 240
    },
    "id": "cxWjbZeJfUo7",
    "outputId": "1f9d114d-3eea-45c8-d2ca-39051d079fa4"
   },
   "outputs": [
    {
     "name": "stdout",
     "output_type": "stream",
     "text": [
      "Already up to date.\n"
     ]
    }
   ],
   "source": [
    "###### Config #####\n",
    "import sys, os, platform\n",
    "if os.path.isdir(\"ds-assets\"):\n",
    "  !cd ds-assets && git pull\n",
    "else:\n",
    "  !git clone https://github.com/lutzhamel/ds-assets.git\n",
    "colab = True if 'google.colab' in os.sys.modules else False\n",
    "system = platform.system() # \"Windows\", \"Linux\", \"Darwin\"\n",
    "home = \"ds-assets/assets/\"\n",
    "sys.path.append(home)"
   ]
  },
  {
   "cell_type": "code",
   "execution_count": 34,
   "metadata": {
    "id": "APtfPewudt6G"
   },
   "outputs": [],
   "source": [
    "# modules\n",
    "import pandas as pd\n",
    "import dsutils\n",
    "import seaborn as sns; sns.set_theme(rc={'figure.figsize':(4,3)})\n",
    "from matplotlib.pyplot import show\n",
    "from statistics import mean\n",
    "from numpy import percentile\n",
    "from sklearn.tree import DecisionTreeClassifier\n",
    "from dsutils import classification_confint\n",
    "from sklearn.base import clone"
   ]
  },
  {
   "cell_type": "markdown",
   "metadata": {
    "id": "rxus2VrYlTvw"
   },
   "source": [
    "# Uncertainty\n",
    "\n",
    "Uncertainty is omnipresent in machine learning and in data science in general simply because we try to infer properties of a population at large from a small sample of that population.\n",
    "\n",
    "Consider the Wisconsin breast cancer data set with a few hundred observations.  It represents a tiny fraction of the overall human adult, female population and yet we use this data set to infer the characteristics of cancerous cells and use our machine learning models to predict whether or not a yet undiagnosed cell of an individual not in the training data is cancerous.  Given that the training data represents a tiny sample of the population at large there is some uncertainty connected with any prediction made based on that data.  That is why we predicate any performance claims with a confidence interval acknowledging that there is some uncertainty.\n",
    "\n",
    "## One Source of Uncertainty\n",
    "\n",
    "One way to look at the Wisconsin breast cancer data set is as a **sample** of the population at large.  If some other state would conduct a similar study they might create another sample with slightly different characteristics.\n",
    "\n",
    "Let's study the effect of taking samples by taking samples from our  iris data set."
   ]
  },
  {
   "cell_type": "markdown",
   "metadata": {
    "id": "AV7R73ltBHLh"
   },
   "source": [
    "## Sampling the Iris Dataset"
   ]
  },
  {
   "cell_type": "markdown",
   "metadata": {
    "id": "NwfqXAlEBTvq"
   },
   "source": [
    "We only use two dimensions and the target attribute of the dataset so that we can easily visualize things."
   ]
  },
  {
   "cell_type": "code",
   "execution_count": 35,
   "metadata": {
    "colab": {
     "base_uri": "https://localhost:8080/",
     "height": 206
    },
    "executionInfo": {
     "elapsed": 353,
     "status": "ok",
     "timestamp": 1712665536886,
     "user": {
      "displayName": "Lutz Hamel",
      "userId": "10287662568849688016"
     },
     "user_tz": 240
    },
    "id": "fG2lkIDDd4cz",
    "outputId": "7ed85410-ad83-46c3-979c-5c14b87a8cec"
   },
   "outputs": [
    {
     "data": {
      "text/html": [
       "<div>\n",
       "<style scoped>\n",
       "    .dataframe tbody tr th:only-of-type {\n",
       "        vertical-align: middle;\n",
       "    }\n",
       "\n",
       "    .dataframe tbody tr th {\n",
       "        vertical-align: top;\n",
       "    }\n",
       "\n",
       "    .dataframe thead th {\n",
       "        text-align: right;\n",
       "    }\n",
       "</style>\n",
       "<table border=\"1\" class=\"dataframe\">\n",
       "  <thead>\n",
       "    <tr style=\"text-align: right;\">\n",
       "      <th></th>\n",
       "      <th>Petal.Length</th>\n",
       "      <th>Petal.Width</th>\n",
       "      <th>Species</th>\n",
       "    </tr>\n",
       "  </thead>\n",
       "  <tbody>\n",
       "    <tr>\n",
       "      <th>0</th>\n",
       "      <td>1.4</td>\n",
       "      <td>0.2</td>\n",
       "      <td>setosa</td>\n",
       "    </tr>\n",
       "    <tr>\n",
       "      <th>1</th>\n",
       "      <td>1.4</td>\n",
       "      <td>0.2</td>\n",
       "      <td>setosa</td>\n",
       "    </tr>\n",
       "    <tr>\n",
       "      <th>2</th>\n",
       "      <td>1.3</td>\n",
       "      <td>0.2</td>\n",
       "      <td>setosa</td>\n",
       "    </tr>\n",
       "    <tr>\n",
       "      <th>3</th>\n",
       "      <td>1.5</td>\n",
       "      <td>0.2</td>\n",
       "      <td>setosa</td>\n",
       "    </tr>\n",
       "    <tr>\n",
       "      <th>4</th>\n",
       "      <td>1.4</td>\n",
       "      <td>0.2</td>\n",
       "      <td>setosa</td>\n",
       "    </tr>\n",
       "  </tbody>\n",
       "</table>\n",
       "</div>"
      ],
      "text/plain": [
       "   Petal.Length  Petal.Width Species\n",
       "0           1.4          0.2  setosa\n",
       "1           1.4          0.2  setosa\n",
       "2           1.3          0.2  setosa\n",
       "3           1.5          0.2  setosa\n",
       "4           1.4          0.2  setosa"
      ]
     },
     "execution_count": 35,
     "metadata": {},
     "output_type": "execute_result"
    }
   ],
   "source": [
    "iris = pd.read_csv(home+\"iris.csv\")[['Petal.Length', 'Petal.Width','Species']]\n",
    "iris.head()"
   ]
  },
  {
   "cell_type": "code",
   "execution_count": 36,
   "metadata": {
    "colab": {
     "base_uri": "https://localhost:8080/",
     "height": 337
    },
    "executionInfo": {
     "elapsed": 2978,
     "status": "ok",
     "timestamp": 1712665539857,
     "user": {
      "displayName": "Lutz Hamel",
      "userId": "10287662568849688016"
     },
     "user_tz": 240
    },
    "id": "wvQse8kbeawZ",
    "outputId": "36ba7484-0376-4142-f267-1187172564ab"
   },
   "outputs": [
    {
     "data": {
      "text/plain": [
       "<Axes: xlabel='Petal.Width', ylabel='Petal.Length'>"
      ]
     },
     "execution_count": 36,
     "metadata": {},
     "output_type": "execute_result"
    },
    {
     "data": {
      "image/png": "[encoded data removed]",
      "text/plain": [
       "<Figure size 400x300 with 1 Axes>"
      ]
     },
     "metadata": {},
     "output_type": "display_data"
    }
   ],
   "source": [
    "sns.scatterplot(data=iris, \n",
    "                x='Petal.Width', \n",
    "                y='Petal.Length', \n",
    "                hue='Species')"
   ]
  },
  {
   "cell_type": "markdown",
   "metadata": {
    "id": "uVB9-3eLh8-R"
   },
   "source": [
    "We take samples of size 30 of our iris data. "
   ]
  },
  {
   "cell_type": "code",
   "execution_count": 37,
   "metadata": {
    "id": "rg9-DL0aiPE0"
   },
   "outputs": [],
   "source": [
    "sample_size=30"
   ]
  },
  {
   "cell_type": "markdown",
   "metadata": {
    "id": "GkFoPYiZiiO2"
   },
   "source": [
    "We draw 3 different samples."
   ]
  },
  {
   "cell_type": "code",
   "execution_count": 38,
   "metadata": {
    "colab": {
     "base_uri": "https://localhost:8080/",
     "height": 992
    },
    "executionInfo": {
     "elapsed": 7810,
     "status": "ok",
     "timestamp": 1712665547664,
     "user": {
      "displayName": "Lutz Hamel",
      "userId": "10287662568849688016"
     },
     "user_tz": 240
    },
    "id": "mzpCfvTjfOb8",
    "outputId": "18ea9a6b-746d-4938-bbb0-ef294ced6fca"
   },
   "outputs": [
    {
     "data": {
      "image/png": "[encoded data removed]",
      "text/plain": [
       "<Figure size 400x300 with 1 Axes>"
      ]
     },
     "metadata": {},
     "output_type": "display_data"
    },
    {
     "data": {
      "image/png": "[encoded data removed]",
      "text/plain": [
       "<Figure size 400x300 with 1 Axes>"
      ]
     },
     "metadata": {},
     "output_type": "display_data"
    },
    {
     "data": {
      "image/png": "[encoded data removed]",
      "text/plain": [
       "<Figure size 400x300 with 1 Axes>"
      ]
     },
     "metadata": {},
     "output_type": "display_data"
    }
   ],
   "source": [
    "n=3\n",
    "samples = []\n",
    "\n",
    "for i in range(n):\n",
    "  samples.append(iris.sample(sample_size, axis=0, random_state=i+2))\n",
    "  sns.scatterplot(data=samples[i], \n",
    "                  x='Petal.Width', \n",
    "                  y='Petal.Length', \n",
    "                  hue='Species')\\\n",
    "      .set_title(\"Sample #{}\".format(i))\n",
    "  show()"
   ]
  },
  {
   "cell_type": "markdown",
   "metadata": {
    "id": "mtLBnbPghX8O"
   },
   "source": [
    "**Observation**: Notice that due to the random nature of sampling **each sample is slightly different**.  \n",
    "\n"
   ]
  },
  {
   "cell_type": "markdown",
   "metadata": {
    "id": "NI3pVWzfF-dl"
   },
   "source": [
    "## Estimating Population Properties"
   ]
  },
  {
   "cell_type": "markdown",
   "metadata": {
    "id": "B3TiYU1ZB2eB"
   },
   "source": [
    "Let's make this observation a bit more concrete.  Let's assume that our scientists are interested in studying the average petal length of  the iris flower.  Given the differences in samples we find that each sample will have a slightly different outcome,"
   ]
  },
  {
   "cell_type": "code",
   "execution_count": 39,
   "metadata": {
    "colab": {
     "base_uri": "https://localhost:8080/"
    },
    "executionInfo": {
     "elapsed": 40,
     "status": "ok",
     "timestamp": 1712665547664,
     "user": {
      "displayName": "Lutz Hamel",
      "userId": "10287662568849688016"
     },
     "user_tz": 240
    },
    "id": "lplZhkbXC4of",
    "outputId": "1a2ffabc-e2ed-47b6-ec92-05860a5178cd"
   },
   "outputs": [
    {
     "name": "stdout",
     "output_type": "stream",
     "text": [
      "sample 0 mean: 3.34\n",
      "sample 1 mean: 3.77\n",
      "sample 2 mean: 3.23\n"
     ]
    }
   ],
   "source": [
    "for i in range(n):\n",
    "   print(\"sample {} mean: {:.2f}\".format(i, samples[i]['Petal.Length'].mean()))"
   ]
  },
  {
   "cell_type": "markdown",
   "metadata": {
    "id": "owfaKBsfDcUU"
   },
   "source": [
    "**Observation**: We can directly observe the uncertainty of sampling:  Each one of the samples has a slightly different result."
   ]
  },
  {
   "cell_type": "markdown",
   "metadata": {
    "id": "PDxX8DnpEB3V"
   },
   "source": [
    "However, if we have enough samples and we average the results of these samples we can retrieve a pretty accurate estimate of the actual average of the petal lengths of the original population!"
   ]
  },
  {
   "cell_type": "code",
   "execution_count": 40,
   "metadata": {
    "colab": {
     "base_uri": "https://localhost:8080/"
    },
    "executionInfo": {
     "elapsed": 159,
     "status": "ok",
     "timestamp": 1712665547967,
     "user": {
      "displayName": "Lutz Hamel",
      "userId": "10287662568849688016"
     },
     "user_tz": 240
    },
    "id": "s1wH4uMB-tdr",
    "outputId": "329500f8-c085-4de3-ca34-3a6e7dec246e"
   },
   "outputs": [
    {
     "name": "stdout",
     "output_type": "stream",
     "text": [
      "trial #0: 3.34\n",
      "trial #1: 3.77\n",
      "trial #2: 3.23\n",
      "trial #3: 4.03\n",
      "trial #4: 3.88\n",
      "trial #5: 4.09\n",
      "trial #6: 3.81\n",
      "trial #7: 3.37\n",
      "trial #8: 3.67\n",
      "trial #9: 3.80\n",
      "trial #10: 3.59\n",
      "trial #11: 4.01\n",
      "trial #12: 3.22\n",
      "trial #13: 3.89\n",
      "trial #14: 3.71\n",
      "trial #15: 4.06\n",
      "trial #16: 3.60\n",
      "trial #17: 3.66\n",
      "trial #18: 3.94\n",
      "trial #19: 3.53\n",
      "estimated average: 3.71\n",
      "actual average: 3.76\n"
     ]
    }
   ],
   "source": [
    "n_trials = 20\n",
    "sum_avg = 0\n",
    "\n",
    "for i in range(n_trials):\n",
    "  avg = iris.sample(sample_size, axis=0, random_state=i+2)['Petal.Length'].mean()\n",
    "  print(\"trial #{}: {:.2f}\".format(i,avg))\n",
    "  sum_avg += avg\n",
    "\n",
    "print(\"estimated average: {:.2f}\".format(sum_avg/n_trials))\n",
    "print(\"actual average: {:.2f}\".format(iris['Petal.Length'].mean()))"
   ]
  },
  {
   "cell_type": "markdown",
   "metadata": {
    "id": "0Paei2PWShUj"
   },
   "source": [
    "That's pretty close..."
   ]
  },
  {
   "cell_type": "code",
   "execution_count": 41,
   "metadata": {
    "colab": {
     "base_uri": "https://localhost:8080/"
    },
    "executionInfo": {
     "elapsed": 7,
     "status": "ok",
     "timestamp": 1712665547968,
     "user": {
      "displayName": "Lutz Hamel",
      "userId": "10287662568849688016"
     },
     "user_tz": 240
    },
    "id": "_X462ITSSz3g",
    "outputId": "aae520e2-2975-4bf3-93e3-8120e78284f6"
   },
   "outputs": [
    {
     "data": {
      "text/plain": [
       "'Our estimate is 98.7% accurate'"
      ]
     },
     "execution_count": 41,
     "metadata": {},
     "output_type": "execute_result"
    }
   ],
   "source": [
    "\"Our estimate is {:.1f}% accurate\".format((1-(3.76-3.71)/3.76)*100)"
   ]
  },
  {
   "cell_type": "markdown",
   "metadata": {
    "id": "WSgxGn_LTpxd"
   },
   "source": [
    "**This means we can use repeated samples to estimate population properties.**\n",
    "\n",
    "That is exactly what the bootstrap approach is all about."
   ]
  },
  {
   "cell_type": "markdown",
   "metadata": {
    "id": "MuHd4WePTxrr"
   },
   "source": [
    "# The Bootstrap"
   ]
  },
  {
   "cell_type": "markdown",
   "metadata": {
    "id": "D4Luf0VfTz2y"
   },
   "source": [
    "This is where the **bootstrap** comes in. In the 1990's statistician discovered that a single sample already contains substantial information about the variability of the overall population and that this information can be extracted from the sample by **resampling the sample**.  This is called the bootstrap. Reference: Tibshirani, R. J., & Efron, B. (1993). An introduction to the bootstrap. Monographs on statistics and applied probability, Chapman and Hall/CRC, 57(1).\n",
    "\n",
    "**Observation**: This implies that we can use a single sample (like the iris data set) to estimate population properties by simply resampling the sample.  The result of this bootstrap procedure is an estimate of the population property together with a probability bound not unlike the confidence interval we used up to this point."
   ]
  },
  {
   "cell_type": "markdown",
   "metadata": {
    "id": "gep4bzhVYQu9"
   },
   "source": [
    "## The Bootstrap Procedure"
   ]
  },
  {
   "cell_type": "markdown",
   "metadata": {
    "id": "vAv0sNrlXbuR"
   },
   "source": [
    "The bootstrap can be used to estimate any population statistic together with a probability bound based on a single sample using the following steps:\n",
    "\n",
    "1. Create bootstrap samples. \n",
    "\n",
    "1. For each sample compute the statistic in question.  \n",
    "\n",
    "1. Average the values of the sample statistics in order to estimate the population statistic.\n",
    "\n",
    "1. Sort the samples according to the value of the statistic in question.\n",
    "\n",
    "1. Extract the bound values from the sorted sample list in order to estimate the confidence in the estimated value.\n",
    "\n"
   ]
  },
  {
   "cell_type": "markdown",
   "metadata": {
    "id": "8hXlpM4dMuVz"
   },
   "source": [
    "## Bootstrapping the Iris Dataset"
   ]
  },
  {
   "cell_type": "markdown",
   "metadata": {
    "id": "nj4IQ-AIWC1l"
   },
   "source": [
    "Let's try this with our iris dataset.  Now, **bootstrap samples** differ from the samples above in that they have to be **the same size as the original data**.  We achieve this by **sampling with replacement**.  That means some points from the original are going to be repeated and some points from the original data are going to be missing.  That also implies that each bootstrap sample looks slightly different."
   ]
  },
  {
   "cell_type": "code",
   "execution_count": 42,
   "metadata": {
    "id": "Rl1p8gS_Wm_F"
   },
   "outputs": [
    {
     "name": "stdout",
     "output_type": "stream",
     "text": [
      "bootstrap sample 0 mean: 4.03\n",
      "bootstrap sample 1 mean: 3.98\n",
      "bootstrap sample 2 mean: 3.56\n"
     ]
    }
   ],
   "source": [
    "for n_samples in range(3):\n",
    "   m = iris.sample(iris.shape[0], replace=True, axis=0)['Petal.Length'].mean()\n",
    "   print(\"bootstrap sample {} mean: {:.2f}\".format(n_samples, m))"
   ]
  },
  {
   "cell_type": "markdown",
   "metadata": {
    "id": "B1qo0vm5XJLE"
   },
   "source": [
    "We know that this is a little low compared to the actual population average of 3.76 we computed above and we are not surprised that it doesn't match given the uncertainty of creating samples."
   ]
  },
  {
   "cell_type": "markdown",
   "metadata": {
    "id": "Mq8o0S9Oa9K7"
   },
   "source": [
    "Let's apply the bootstrap procedure to our sample."
   ]
  },
  {
   "cell_type": "code",
   "execution_count": 43,
   "metadata": {
    "colab": {
     "base_uri": "https://localhost:8080/"
    },
    "executionInfo": {
     "elapsed": 862,
     "status": "ok",
     "timestamp": 1712665549052,
     "user": {
      "displayName": "Lutz Hamel",
      "userId": "10287662568849688016"
     },
     "user_tz": 240
    },
    "id": "bL0kGQSQbFPF",
    "outputId": "52c0b4f6-3747-4524-e2d4-b47d3e85decb"
   },
   "outputs": [],
   "source": [
    "n_bootsamples = 200\n",
    "sample_stats = []"
   ]
  },
  {
   "cell_type": "code",
   "execution_count": 44,
   "metadata": {},
   "outputs": [],
   "source": [
    "# compute the bootstrap samples\n",
    "for i in range(n_bootsamples):\n",
    "  # resample our sample\n",
    "  bootsample = iris.sample(n=iris.shape[0],\n",
    "                            replace=True,\n",
    "                            axis=0\n",
    "                          )\n",
    "  # compute statistic in question\n",
    "  sample_stats.append(bootsample['Petal.Length'].mean())"
   ]
  },
  {
   "cell_type": "code",
   "execution_count": 45,
   "metadata": {},
   "outputs": [
    {
     "name": "stdout",
     "output_type": "stream",
     "text": [
      "The population petal length average is 3.77 with the 95% probability bound (3.52,4.06).\n"
     ]
    }
   ],
   "source": [
    "\n",
    "# compute the estimated value of our population statistic\n",
    "avg = mean(sample_stats)\n",
    "\n",
    "# sort the bootstrap samples according to the statistic\n",
    "sample_stats.sort()\n",
    "\n",
    "# estimate the 95% probability bounds\n",
    "lb = percentile(sample_stats, 2.5)  # 2.5% percentile\n",
    "ub = percentile(sample_stats, 97.5) # 97.5% percentile\n",
    "\n",
    "print(\"The population petal length average is {:.2f} with \"\\\n",
    "      \"the 95% probability bound ({:.2f},{:.2f}).\".format(avg,lb,ub))"
   ]
  },
  {
   "cell_type": "markdown",
   "metadata": {
    "id": "kwLFQh2xqvJu"
   },
   "source": [
    "## The Bootstrap and ML"
   ]
  },
  {
   "cell_type": "markdown",
   "metadata": {
    "id": "PCduGsApq0cA"
   },
   "source": [
    "Given that bootstrap samples expose variability of the underlying domain we can use this to compute the **expected performance of machine learning algorithms together with a probability bound**.\n",
    "\n",
    "Here we use the Wisconsin breast cancer data set to illustrate that we can use the \"sampling of samples\" technigues, i.e. the bootstrap, to estimate overall population statistics."
   ]
  },
  {
   "cell_type": "code",
   "execution_count": 46,
   "metadata": {
    "colab": {
     "base_uri": "https://localhost:8080/",
     "height": 206
    },
    "executionInfo": {
     "elapsed": 161,
     "status": "ok",
     "timestamp": 1712665549210,
     "user": {
      "displayName": "Lutz Hamel",
      "userId": "10287662568849688016"
     },
     "user_tz": 240
    },
    "id": "8dxKAl9sr7z9",
    "outputId": "abd23a6d-8594-416c-a14b-8656dd2f91b1"
   },
   "outputs": [
    {
     "data": {
      "text/html": [
       "<div>\n",
       "<style scoped>\n",
       "    .dataframe tbody tr th:only-of-type {\n",
       "        vertical-align: middle;\n",
       "    }\n",
       "\n",
       "    .dataframe tbody tr th {\n",
       "        vertical-align: top;\n",
       "    }\n",
       "\n",
       "    .dataframe thead th {\n",
       "        text-align: right;\n",
       "    }\n",
       "</style>\n",
       "<table border=\"1\" class=\"dataframe\">\n",
       "  <thead>\n",
       "    <tr style=\"text-align: right;\">\n",
       "      <th></th>\n",
       "      <th>radius1</th>\n",
       "      <th>texture1</th>\n",
       "      <th>perimeter1</th>\n",
       "      <th>area1</th>\n",
       "      <th>smoothness1</th>\n",
       "      <th>compactness1</th>\n",
       "      <th>concavity1</th>\n",
       "      <th>concave_points1</th>\n",
       "      <th>symmetry1</th>\n",
       "      <th>fractal_dimension1</th>\n",
       "      <th>...</th>\n",
       "      <th>texture3</th>\n",
       "      <th>perimeter3</th>\n",
       "      <th>area3</th>\n",
       "      <th>smoothness3</th>\n",
       "      <th>compactness3</th>\n",
       "      <th>concavity3</th>\n",
       "      <th>concave_points3</th>\n",
       "      <th>symmetry3</th>\n",
       "      <th>fractal_dimension3</th>\n",
       "      <th>Diagnosis</th>\n",
       "    </tr>\n",
       "  </thead>\n",
       "  <tbody>\n",
       "    <tr>\n",
       "      <th>0</th>\n",
       "      <td>17.99</td>\n",
       "      <td>10.38</td>\n",
       "      <td>122.80</td>\n",
       "      <td>1001.0</td>\n",
       "      <td>0.11840</td>\n",
       "      <td>0.27760</td>\n",
       "      <td>0.3001</td>\n",
       "      <td>0.14710</td>\n",
       "      <td>0.2419</td>\n",
       "      <td>0.07871</td>\n",
       "      <td>...</td>\n",
       "      <td>17.33</td>\n",
       "      <td>184.60</td>\n",
       "      <td>2019.0</td>\n",
       "      <td>0.1622</td>\n",
       "      <td>0.6656</td>\n",
       "      <td>0.7119</td>\n",
       "      <td>0.2654</td>\n",
       "      <td>0.4601</td>\n",
       "      <td>0.11890</td>\n",
       "      <td>M</td>\n",
       "    </tr>\n",
       "    <tr>\n",
       "      <th>1</th>\n",
       "      <td>20.57</td>\n",
       "      <td>17.77</td>\n",
       "      <td>132.90</td>\n",
       "      <td>1326.0</td>\n",
       "      <td>0.08474</td>\n",
       "      <td>0.07864</td>\n",
       "      <td>0.0869</td>\n",
       "      <td>0.07017</td>\n",
       "      <td>0.1812</td>\n",
       "      <td>0.05667</td>\n",
       "      <td>...</td>\n",
       "      <td>23.41</td>\n",
       "      <td>158.80</td>\n",
       "      <td>1956.0</td>\n",
       "      <td>0.1238</td>\n",
       "      <td>0.1866</td>\n",
       "      <td>0.2416</td>\n",
       "      <td>0.1860</td>\n",
       "      <td>0.2750</td>\n",
       "      <td>0.08902</td>\n",
       "      <td>M</td>\n",
       "    </tr>\n",
       "    <tr>\n",
       "      <th>2</th>\n",
       "      <td>19.69</td>\n",
       "      <td>21.25</td>\n",
       "      <td>130.00</td>\n",
       "      <td>1203.0</td>\n",
       "      <td>0.10960</td>\n",
       "      <td>0.15990</td>\n",
       "      <td>0.1974</td>\n",
       "      <td>0.12790</td>\n",
       "      <td>0.2069</td>\n",
       "      <td>0.05999</td>\n",
       "      <td>...</td>\n",
       "      <td>25.53</td>\n",
       "      <td>152.50</td>\n",
       "      <td>1709.0</td>\n",
       "      <td>0.1444</td>\n",
       "      <td>0.4245</td>\n",
       "      <td>0.4504</td>\n",
       "      <td>0.2430</td>\n",
       "      <td>0.3613</td>\n",
       "      <td>0.08758</td>\n",
       "      <td>M</td>\n",
       "    </tr>\n",
       "    <tr>\n",
       "      <th>3</th>\n",
       "      <td>11.42</td>\n",
       "      <td>20.38</td>\n",
       "      <td>77.58</td>\n",
       "      <td>386.1</td>\n",
       "      <td>0.14250</td>\n",
       "      <td>0.28390</td>\n",
       "      <td>0.2414</td>\n",
       "      <td>0.10520</td>\n",
       "      <td>0.2597</td>\n",
       "      <td>0.09744</td>\n",
       "      <td>...</td>\n",
       "      <td>26.50</td>\n",
       "      <td>98.87</td>\n",
       "      <td>567.7</td>\n",
       "      <td>0.2098</td>\n",
       "      <td>0.8663</td>\n",
       "      <td>0.6869</td>\n",
       "      <td>0.2575</td>\n",
       "      <td>0.6638</td>\n",
       "      <td>0.17300</td>\n",
       "      <td>M</td>\n",
       "    </tr>\n",
       "    <tr>\n",
       "      <th>4</th>\n",
       "      <td>20.29</td>\n",
       "      <td>14.34</td>\n",
       "      <td>135.10</td>\n",
       "      <td>1297.0</td>\n",
       "      <td>0.10030</td>\n",
       "      <td>0.13280</td>\n",
       "      <td>0.1980</td>\n",
       "      <td>0.10430</td>\n",
       "      <td>0.1809</td>\n",
       "      <td>0.05883</td>\n",
       "      <td>...</td>\n",
       "      <td>16.67</td>\n",
       "      <td>152.20</td>\n",
       "      <td>1575.0</td>\n",
       "      <td>0.1374</td>\n",
       "      <td>0.2050</td>\n",
       "      <td>0.4000</td>\n",
       "      <td>0.1625</td>\n",
       "      <td>0.2364</td>\n",
       "      <td>0.07678</td>\n",
       "      <td>M</td>\n",
       "    </tr>\n",
       "  </tbody>\n",
       "</table>\n",
       "<p>5 rows × 31 columns</p>\n",
       "</div>"
      ],
      "text/plain": [
       "   radius1  texture1  perimeter1   area1  smoothness1  compactness1  \\\n",
       "0    17.99     10.38      122.80  1001.0      0.11840       0.27760   \n",
       "1    20.57     17.77      132.90  1326.0      0.08474       0.07864   \n",
       "2    19.69     21.25      130.00  1203.0      0.10960       0.15990   \n",
       "3    11.42     20.38       77.58   386.1      0.14250       0.28390   \n",
       "4    20.29     14.34      135.10  1297.0      0.10030       0.13280   \n",
       "\n",
       "   concavity1  concave_points1  symmetry1  fractal_dimension1  ...  texture3  \\\n",
       "0      0.3001          0.14710     0.2419             0.07871  ...     17.33   \n",
       "1      0.0869          0.07017     0.1812             0.05667  ...     23.41   \n",
       "2      0.1974          0.12790     0.2069             0.05999  ...     25.53   \n",
       "3      0.2414          0.10520     0.2597             0.09744  ...     26.50   \n",
       "4      0.1980          0.10430     0.1809             0.05883  ...     16.67   \n",
       "\n",
       "   perimeter3   area3  smoothness3  compactness3  concavity3  concave_points3  \\\n",
       "0      184.60  2019.0       0.1622        0.6656      0.7119           0.2654   \n",
       "1      158.80  1956.0       0.1238        0.1866      0.2416           0.1860   \n",
       "2      152.50  1709.0       0.1444        0.4245      0.4504           0.2430   \n",
       "3       98.87   567.7       0.2098        0.8663      0.6869           0.2575   \n",
       "4      152.20  1575.0       0.1374        0.2050      0.4000           0.1625   \n",
       "\n",
       "   symmetry3  fractal_dimension3  Diagnosis  \n",
       "0     0.4601             0.11890          M  \n",
       "1     0.2750             0.08902          M  \n",
       "2     0.3613             0.08758          M  \n",
       "3     0.6638             0.17300          M  \n",
       "4     0.2364             0.07678          M  \n",
       "\n",
       "[5 rows x 31 columns]"
      ]
     },
     "execution_count": 46,
     "metadata": {},
     "output_type": "execute_result"
    }
   ],
   "source": [
    "# the wisconsin breast cancer data set\n",
    "wdbc = pd.read_csv(home+\"wdbc.csv\").drop(columns=['ID'])\n",
    "wdbc.head()"
   ]
  },
  {
   "cell_type": "code",
   "execution_count": 47,
   "metadata": {
    "colab": {
     "base_uri": "https://localhost:8080/"
    },
    "executionInfo": {
     "elapsed": 7185,
     "status": "ok",
     "timestamp": 1712665556386,
     "user": {
      "displayName": "Lutz Hamel",
      "userId": "10287662568849688016"
     },
     "user_tz": 240
    },
    "id": "hg1gLknYswhC",
    "outputId": "eb662ffb-0534-4091-d6b9-015f8c1b6fb5"
   },
   "outputs": [],
   "source": [
    "# construct ml training data\n",
    "X  = wdbc.drop(columns=['Diagnosis'])\n",
    "y = wdbc['Diagnosis']"
   ]
  },
  {
   "cell_type": "markdown",
   "metadata": {
    "id": "QclBlLImlmbE"
   },
   "source": [
    "We use a tree model of depth 1 as our classification model.  Seems strange but we want to force some classification errors so that we get some reasonable uncertainty bounds."
   ]
  },
  {
   "cell_type": "code",
   "execution_count": 48,
   "metadata": {},
   "outputs": [],
   "source": [
    "# our tree model\n",
    "model = DecisionTreeClassifier(max_depth=1).fit(X, y)"
   ]
  },
  {
   "cell_type": "markdown",
   "metadata": {},
   "source": [
    "We capture the uncertainty  by estimating the **95% confidence interval**."
   ]
  },
  {
   "cell_type": "code",
   "execution_count": 49,
   "metadata": {},
   "outputs": [
    {
     "data": {
      "text/plain": [
       "'Accuracy: 0.92 (0.90, 0.94)'"
      ]
     },
     "execution_count": 49,
     "metadata": {},
     "output_type": "execute_result"
    }
   ],
   "source": [
    "dsutils.acc_score(model, X, y, as_string=True)"
   ]
  },
  {
   "cell_type": "markdown",
   "metadata": {
    "id": "oRn4jb_ImGTr"
   },
   "source": [
    "Now, let's **capture the uncertainty by bootstrapping our sample**."
   ]
  },
  {
   "cell_type": "code",
   "execution_count": 50,
   "metadata": {
    "colab": {
     "base_uri": "https://localhost:8080/"
    },
    "executionInfo": {
     "elapsed": 177822,
     "status": "ok",
     "timestamp": 1712665734181,
     "user": {
      "displayName": "Lutz Hamel",
      "userId": "10287662568849688016"
     },
     "user_tz": 240
    },
    "id": "GSyvkbOZtmYn",
    "outputId": "af3d078a-07ae-465e-8237-6c3b68532fac"
   },
   "outputs": [],
   "source": [
    "n_bootsamples = 200 \n",
    "sample_stats = []"
   ]
  },
  {
   "cell_type": "code",
   "execution_count": 51,
   "metadata": {},
   "outputs": [],
   "source": [
    "# do the bootstrap\n",
    "for i in range(n_bootsamples):\n",
    "  bootsample = wdbc.sample(n=wdbc.shape[0],\n",
    "                           replace=True,\n",
    "                           axis=0\n",
    "                          )\n",
    "  X = bootsample.drop(columns=['Diagnosis'])\n",
    "  y = bootsample['Diagnosis']\n",
    "  bootmodel = DecisionTreeClassifier(max_depth=1).fit(X,y)\n",
    "  predict_y = bootmodel.predict(X)\n",
    "  acc = bootmodel.score(X,y)\n",
    "  sample_stats.append(acc)"
   ]
  },
  {
   "cell_type": "code",
   "execution_count": 52,
   "metadata": {},
   "outputs": [
    {
     "data": {
      "text/plain": [
       "'The accuracy is 0.93 with a 95% probability bound (0.92,0.95).'"
      ]
     },
     "execution_count": 52,
     "metadata": {},
     "output_type": "execute_result"
    }
   ],
   "source": [
    "\n",
    "# compute the estimated value of our population statistic\n",
    "avg = mean(sample_stats)\n",
    "\n",
    "# sort the bootstrap samples according to the statistic\n",
    "sample_stats.sort()\n",
    "\n",
    "# estimate the 95% probability bounds\n",
    "lb = percentile(sample_stats, 2.5)\n",
    "ub = percentile(sample_stats, 97.5)\n",
    "\n",
    "\"The accuracy is {:.2f} with a \"\\\n",
    "      \"95% probability bound ({:.2f},{:.2f}).\".format(avg,lb,ub)"
   ]
  },
  {
   "cell_type": "markdown",
   "metadata": {
    "id": "MhD-pf43mUSd"
   },
   "source": [
    "**Observation**: Our bootstrapped accuracy and the accuracy of our model built on our sample are close.  The estimated bounds and the bootstrapped bounds almost completely overlap."
   ]
  },
  {
   "cell_type": "markdown",
   "metadata": {
    "id": "mEpxzBhQmXcZ"
   },
   "source": [
    "# The dsutils Bootstrap Function"
   ]
  },
  {
   "cell_type": "markdown",
   "metadata": {
    "id": "h_SahCd-mehU"
   },
   "source": [
    "We have embedded all the above computations of the bootstrap into a bootstrap function."
   ]
  },
  {
   "cell_type": "markdown",
   "metadata": {
    "id": "oRdc7oeCm57r"
   },
   "source": [
    "Let's redo our example with the 'bootstrap_score' function."
   ]
  },
  {
   "cell_type": "code",
   "execution_count": 53,
   "metadata": {
    "colab": {
     "base_uri": "https://localhost:8080/"
    },
    "executionInfo": {
     "elapsed": 175153,
     "status": "ok",
     "timestamp": 1712665909333,
     "user": {
      "displayName": "Lutz Hamel",
      "userId": "10287662568849688016"
     },
     "user_tz": 240
    },
    "id": "N-a6DrzPnAHS",
    "outputId": "e20a58b7-a722-4f5a-b234-5a49dc88dd5d"
   },
   "outputs": [
    {
     "data": {
      "text/plain": [
       "'Score: 0.94 (0.92, 0.96)'"
      ]
     },
     "execution_count": 53,
     "metadata": {},
     "output_type": "execute_result"
    }
   ],
   "source": [
    "dsutils.bootstrap_score(DecisionTreeClassifier(max_depth=1),\n",
    "                        X,\n",
    "                        y,\n",
    "                        as_string=True)\n",
    "\n"
   ]
  },
  {
   "cell_type": "code",
   "execution_count": 54,
   "metadata": {},
   "outputs": [
    {
     "name": "stdout",
     "output_type": "stream",
     "text": [
      "Help on function bootstrap_score in module dsutils:\n",
      "\n",
      "bootstrap_score(model, X, y, s=200, as_string=False)\n",
      "    Compute a bootstrapped model score together with its 95% probability\n",
      "    bound. If the model object is a classification model then model accuracy\n",
      "    is computed and if the model object is a regression model then the R^2\n",
      "    score is computed.\n",
      "\n",
      "    Parameters\n",
      "        model - a classification/regression model\n",
      "        X - sklearn style feature matrix\n",
      "        y - sklearn style target vector\n",
      "        s - number of bootstrap samples\n",
      "        as_string -- if True return a formatted string, otherwise\n",
      "                   return a tuple (score, lower bound, upper bound)\n",
      "\n",
      "    Returns\n",
      "        (score, lower bound, upper bound)\n",
      "\n"
     ]
    }
   ],
   "source": [
    "help(dsutils.bootstrap_score)"
   ]
  }
 ],
 "metadata": {
  "colab": {
   "provenance": []
  },
  "kernelspec": {
   "display_name": "Python 3",
   "language": "python",
   "name": "python3"
  },
  "language_info": {
   "codemirror_mode": {
    "name": "ipython",
    "version": 3
   },
   "file_extension": ".py",
   "mimetype": "text/x-python",
   "name": "python",
   "nbconvert_exporter": "python",
   "pygments_lexer": "ipython3",
   "version": "3.13.1"
  }
 },
 "nbformat": 4,
 "nbformat_minor": 0
}
